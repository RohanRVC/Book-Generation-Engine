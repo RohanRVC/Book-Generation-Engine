{
 "cells": [
  {
   "cell_type": "code",
   "execution_count": 4,
   "metadata": {},
   "outputs": [],
   "source": [
    "import pandas as pd"
   ]
  },
  {
   "cell_type": "code",
   "execution_count": 5,
   "metadata": {},
   "outputs": [],
   "source": [
    "df=pd.read_csv(\"C:/Users/RohanRVC/Documents/Business/E-books/E_Books_Unknown_AI/Book/Dataset_collection/Updated_dataset/Final_data1.csv\")"
   ]
  },
  {
   "cell_type": "code",
   "execution_count": 6,
   "metadata": {},
   "outputs": [
    {
     "data": {
      "text/html": [
       "<div>\n",
       "<style scoped>\n",
       "    .dataframe tbody tr th:only-of-type {\n",
       "        vertical-align: middle;\n",
       "    }\n",
       "\n",
       "    .dataframe tbody tr th {\n",
       "        vertical-align: top;\n",
       "    }\n",
       "\n",
       "    .dataframe thead th {\n",
       "        text-align: right;\n",
       "    }\n",
       "</style>\n",
       "<table border=\"1\" class=\"dataframe\">\n",
       "  <thead>\n",
       "    <tr style=\"text-align: right;\">\n",
       "      <th></th>\n",
       "      <th>Title</th>\n",
       "      <th>Genre</th>\n",
       "      <th>Content</th>\n",
       "      <th>Language</th>\n",
       "    </tr>\n",
       "  </thead>\n",
       "  <tbody>\n",
       "    <tr>\n",
       "      <th>0</th>\n",
       "      <td>The Declaration of Independence of the United ...</td>\n",
       "      <td>History</td>\n",
       "      <td>All of the original files are included in the ...</td>\n",
       "      <td>English</td>\n",
       "    </tr>\n",
       "    <tr>\n",
       "      <th>1</th>\n",
       "      <td>The King James Version of the Bible</td>\n",
       "      <td>Religion and Spirituality</td>\n",
       "      <td>Exodus The Third Book of Moses: Called Levitic...</td>\n",
       "      <td>English</td>\n",
       "    </tr>\n",
       "    <tr>\n",
       "      <th>2</th>\n",
       "      <td>The Complete Works of William Shakespeare</td>\n",
       "      <td>Drama and Performing Arts</td>\n",
       "      <td>William Shakespeare Contents THE SONNETS ALL’S...</td>\n",
       "      <td>English</td>\n",
       "    </tr>\n",
       "    <tr>\n",
       "      <th>3</th>\n",
       "      <td>The Magna Carta</td>\n",
       "      <td>Linguistics and Languages</td>\n",
       "      <td>preparer of the 0.1 version. some of which wer...</td>\n",
       "      <td>English</td>\n",
       "    </tr>\n",
       "    <tr>\n",
       "      <th>4</th>\n",
       "      <td>Apocolocyntosis</td>\n",
       "      <td>Religion and Spirituality</td>\n",
       "      <td>H. D. Rouse Release date : November 1, ROUSE, ...</td>\n",
       "      <td>English</td>\n",
       "    </tr>\n",
       "  </tbody>\n",
       "</table>\n",
       "</div>"
      ],
      "text/plain": [
       "                                               Title  \\\n",
       "0  The Declaration of Independence of the United ...   \n",
       "1                The King James Version of the Bible   \n",
       "2          The Complete Works of William Shakespeare   \n",
       "3                                    The Magna Carta   \n",
       "4                                    Apocolocyntosis   \n",
       "\n",
       "                       Genre  \\\n",
       "0                    History   \n",
       "1  Religion and Spirituality   \n",
       "2  Drama and Performing Arts   \n",
       "3  Linguistics and Languages   \n",
       "4  Religion and Spirituality   \n",
       "\n",
       "                                             Content Language  \n",
       "0  All of the original files are included in the ...  English  \n",
       "1  Exodus The Third Book of Moses: Called Levitic...  English  \n",
       "2  William Shakespeare Contents THE SONNETS ALL’S...  English  \n",
       "3  preparer of the 0.1 version. some of which wer...  English  \n",
       "4  H. D. Rouse Release date : November 1, ROUSE, ...  English  "
      ]
     },
     "execution_count": 6,
     "metadata": {},
     "output_type": "execute_result"
    }
   ],
   "source": [
    "df.head()"
   ]
  },
  {
   "cell_type": "code",
   "execution_count": null,
   "metadata": {},
   "outputs": [],
   "source": []
  }
 ],
 "metadata": {
  "kernelspec": {
   "display_name": "Book",
   "language": "python",
   "name": "python3"
  },
  "language_info": {
   "codemirror_mode": {
    "name": "ipython",
    "version": 3
   },
   "file_extension": ".py",
   "mimetype": "text/x-python",
   "name": "python",
   "nbconvert_exporter": "python",
   "pygments_lexer": "ipython3",
   "version": "3.11.1"
  }
 },
 "nbformat": 4,
 "nbformat_minor": 2
}
