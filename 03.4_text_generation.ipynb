{
 "cells": [
  {
   "cell_type": "code",
   "execution_count": 1,
   "metadata": {},
   "outputs": [],
   "source": [
    "import pandas as pd"
   ]
  },
  {
   "cell_type": "code",
   "execution_count": 2,
   "metadata": {},
   "outputs": [],
   "source": [
    "df=pd.read_csv(\"C:/Users/RohanRVC/Documents/Business/E-books/E_Books_Unknown_AI/Book/Dataset_collection/Updated_dataset/Final_data1.csv\")"
   ]
  },
  {
   "cell_type": "code",
   "execution_count": 3,
   "metadata": {},
   "outputs": [
    {
     "data": {
      "text/html": [
       "<div>\n",
       "<style scoped>\n",
       "    .dataframe tbody tr th:only-of-type {\n",
       "        vertical-align: middle;\n",
       "    }\n",
       "\n",
       "    .dataframe tbody tr th {\n",
       "        vertical-align: top;\n",
       "    }\n",
       "\n",
       "    .dataframe thead th {\n",
       "        text-align: right;\n",
       "    }\n",
       "</style>\n",
       "<table border=\"1\" class=\"dataframe\">\n",
       "  <thead>\n",
       "    <tr style=\"text-align: right;\">\n",
       "      <th></th>\n",
       "      <th>Title</th>\n",
       "      <th>Genre</th>\n",
       "      <th>Content</th>\n",
       "      <th>Language</th>\n",
       "    </tr>\n",
       "  </thead>\n",
       "  <tbody>\n",
       "    <tr>\n",
       "      <th>0</th>\n",
       "      <td>The Declaration of Independence of the United ...</td>\n",
       "      <td>History</td>\n",
       "      <td>All of the original files are included in the ...</td>\n",
       "      <td>English</td>\n",
       "    </tr>\n",
       "    <tr>\n",
       "      <th>1</th>\n",
       "      <td>The King James Version of the Bible</td>\n",
       "      <td>Religion and Spirituality</td>\n",
       "      <td>Exodus The Third Book of Moses: Called Levitic...</td>\n",
       "      <td>English</td>\n",
       "    </tr>\n",
       "    <tr>\n",
       "      <th>2</th>\n",
       "      <td>The Complete Works of William Shakespeare</td>\n",
       "      <td>Drama and Performing Arts</td>\n",
       "      <td>William Shakespeare Contents THE SONNETS ALL’S...</td>\n",
       "      <td>English</td>\n",
       "    </tr>\n",
       "    <tr>\n",
       "      <th>3</th>\n",
       "      <td>The Magna Carta</td>\n",
       "      <td>Linguistics and Languages</td>\n",
       "      <td>preparer of the 0.1 version. some of which wer...</td>\n",
       "      <td>English</td>\n",
       "    </tr>\n",
       "    <tr>\n",
       "      <th>4</th>\n",
       "      <td>Apocolocyntosis</td>\n",
       "      <td>Religion and Spirituality</td>\n",
       "      <td>H. D. Rouse Release date : November 1, ROUSE, ...</td>\n",
       "      <td>English</td>\n",
       "    </tr>\n",
       "  </tbody>\n",
       "</table>\n",
       "</div>"
      ],
      "text/plain": [
       "                                               Title  \\\n",
       "0  The Declaration of Independence of the United ...   \n",
       "1                The King James Version of the Bible   \n",
       "2          The Complete Works of William Shakespeare   \n",
       "3                                    The Magna Carta   \n",
       "4                                    Apocolocyntosis   \n",
       "\n",
       "                       Genre  \\\n",
       "0                    History   \n",
       "1  Religion and Spirituality   \n",
       "2  Drama and Performing Arts   \n",
       "3  Linguistics and Languages   \n",
       "4  Religion and Spirituality   \n",
       "\n",
       "                                             Content Language  \n",
       "0  All of the original files are included in the ...  English  \n",
       "1  Exodus The Third Book of Moses: Called Levitic...  English  \n",
       "2  William Shakespeare Contents THE SONNETS ALL’S...  English  \n",
       "3  preparer of the 0.1 version. some of which wer...  English  \n",
       "4  H. D. Rouse Release date : November 1, ROUSE, ...  English  "
      ]
     },
     "execution_count": 3,
     "metadata": {},
     "output_type": "execute_result"
    }
   ],
   "source": [
    "df.head()"
   ]
  },
  {
   "cell_type": "markdown",
   "metadata": {},
   "source": [
    "## Text Generation"
   ]
  },
  {
   "cell_type": "code",
   "execution_count": 4,
   "metadata": {},
   "outputs": [],
   "source": [
    "import random, pickle , numpy as np\n",
    "from nltk.tokenize import RegexpTokenizer\n",
    "from tensorflow.keras.models import Sequential,load_model\n",
    "from tensorflow.keras.layers import LSTM,Dense,Activation \n",
    "## LSTM is RNN \n",
    "from tensorflow.keras.optimizers import RMSprop"
   ]
  },
  {
   "cell_type": "code",
   "execution_count": null,
   "metadata": {},
   "outputs": [],
   "source": []
  },
  {
   "cell_type": "code",
   "execution_count": 5,
   "metadata": {},
   "outputs": [
    {
     "data": {
      "text/plain": [
       "(11345, 4)"
      ]
     },
     "execution_count": 5,
     "metadata": {},
     "output_type": "execute_result"
    }
   ],
   "source": [
    "df.shape"
   ]
  },
  {
   "cell_type": "code",
   "execution_count": 6,
   "metadata": {},
   "outputs": [],
   "source": [
    "df.dropna(inplace=True)"
   ]
  },
  {
   "cell_type": "code",
   "execution_count": 7,
   "metadata": {},
   "outputs": [
    {
     "data": {
      "text/plain": [
       "(11332, 4)"
      ]
     },
     "execution_count": 7,
     "metadata": {},
     "output_type": "execute_result"
    }
   ],
   "source": [
    "df.shape"
   ]
  },
  {
   "cell_type": "code",
   "execution_count": 8,
   "metadata": {},
   "outputs": [],
   "source": [
    "text=list(df.Content.values)\n",
    "joined_text=\" \".join(text)"
   ]
  },
  {
   "cell_type": "code",
   "execution_count": 9,
   "metadata": {},
   "outputs": [
    {
     "name": "stdout",
     "output_type": "stream",
     "text": [
      "Total Memory: 16169.40234375 MB\n",
      "Available Memory: 524.4921875 MB\n"
     ]
    }
   ],
   "source": [
    "import psutil\n",
    "\n",
    "# Get memory details\n",
    "memory = psutil.virtual_memory()\n",
    "\n",
    "# Total memory\n",
    "total_memory = memory.total / (1024 * 1024)  # Convert to MB\n",
    "print(f\"Total Memory: {total_memory} MB\")\n",
    "\n",
    "# Available memory\n",
    "available_memory = memory.available / (1024 * 1024)  # Convert to MB\n",
    "print(f\"Available Memory: {available_memory} MB\")\n"
   ]
  },
  {
   "cell_type": "markdown",
   "metadata": {},
   "source": [
    "### Storing text on the partial , cause most of the time we won't have enough Ram for it "
   ]
  },
  {
   "cell_type": "code",
   "execution_count": 9,
   "metadata": {},
   "outputs": [
    {
     "data": {
      "text/plain": [
       "3784140608"
      ]
     },
     "execution_count": 9,
     "metadata": {},
     "output_type": "execute_result"
    }
   ],
   "source": [
    "len(joined_text)"
   ]
  },
  {
   "cell_type": "code",
   "execution_count": 10,
   "metadata": {},
   "outputs": [],
   "source": [
    "partial_text=joined_text[:100000]"
   ]
  },
  {
   "cell_type": "code",
   "execution_count": 11,
   "metadata": {},
   "outputs": [],
   "source": [
    "tokenizer=RegexpTokenizer(r\"\\w+\")\n",
    "tokens=tokenizer.tokenize(partial_text.lower())"
   ]
  },
  {
   "cell_type": "code",
   "execution_count": 73,
   "metadata": {},
   "outputs": [
    {
     "data": {
      "text/plain": [
       "19611"
      ]
     },
     "execution_count": 73,
     "metadata": {},
     "output_type": "execute_result"
    }
   ],
   "source": [
    "len(tokens)"
   ]
  },
  {
   "cell_type": "code",
   "execution_count": 12,
   "metadata": {},
   "outputs": [],
   "source": [
    "import pickle\n",
    "with open('C:/Users/RohanRVC/Documents/Business/E-books/E_Books_Unknown_AI/text_generation/Model/model_stage_2/unique_tokens.pkl', 'rb') as f:\n",
    "        unique_tokens = pickle.load(f)\n",
    "\n",
    "with open('C:/Users/RohanRVC/Documents/Business/E-books/E_Books_Unknown_AI/text_generation/Model/model_stage_2/unique_token_index.pkl', 'rb') as f:\n",
    "        unique_token_index = pickle.load(f)"
   ]
  },
  {
   "cell_type": "code",
   "execution_count": 55,
   "metadata": {},
   "outputs": [],
   "source": [
    "unique_token=np.unique(tokens)"
   ]
  },
  {
   "cell_type": "code",
   "execution_count": 13,
   "metadata": {},
   "outputs": [
    {
     "data": {
      "text/plain": [
       "1853239"
      ]
     },
     "execution_count": 13,
     "metadata": {},
     "output_type": "execute_result"
    }
   ],
   "source": [
    "len(unique_tokens)"
   ]
  },
  {
   "cell_type": "code",
   "execution_count": 57,
   "metadata": {},
   "outputs": [],
   "source": [
    "unique_token_index={token:idx for idx , token in enumerate(unique_token)}"
   ]
  },
  {
   "cell_type": "code",
   "execution_count": 58,
   "metadata": {},
   "outputs": [],
   "source": [
    "# how many words do we need to look at before to predict last word\n"
   ]
  },
  {
   "cell_type": "code",
   "execution_count": 14,
   "metadata": {},
   "outputs": [],
   "source": [
    "n_words=10\n",
    "input_words=[]\n",
    "next_words=[]"
   ]
  },
  {
   "cell_type": "code",
   "execution_count": 15,
   "metadata": {},
   "outputs": [],
   "source": [
    "for i in range(len(tokens)-n_words):\n",
    "    input_words.append(tokens[i:i+n_words])\n",
    "    next_words.append(tokens[i+n_words])"
   ]
  },
  {
   "cell_type": "code",
   "execution_count": 18,
   "metadata": {},
   "outputs": [
    {
     "ename": "MemoryError",
     "evalue": "Unable to allocate 329. GiB for an array with shape (19064, 10, 1853239) and data type bool",
     "output_type": "error",
     "traceback": [
      "\u001b[1;31m---------------------------------------------------------------------------\u001b[0m",
      "\u001b[1;31mMemoryError\u001b[0m                               Traceback (most recent call last)",
      "\u001b[1;32mc:\\Users\\RohanRVC\\Documents\\Business\\E-books\\E_Books_Unknown_AI\\03.4_text_generation.ipynb Cell 24\u001b[0m line \u001b[0;36m1\n\u001b[1;32m----> <a href='vscode-notebook-cell:/c%3A/Users/RohanRVC/Documents/Business/E-books/E_Books_Unknown_AI/03.4_text_generation.ipynb#X31sZmlsZQ%3D%3D?line=0'>1</a>\u001b[0m X\u001b[39m=\u001b[39mnp\u001b[39m.\u001b[39;49mzeros((\u001b[39mlen\u001b[39;49m(input_words),n_words,\u001b[39mlen\u001b[39;49m(unique_tokens)),dtype\u001b[39m=\u001b[39;49m\u001b[39mbool\u001b[39;49m)\n\u001b[0;32m      <a href='vscode-notebook-cell:/c%3A/Users/RohanRVC/Documents/Business/E-books/E_Books_Unknown_AI/03.4_text_generation.ipynb#X31sZmlsZQ%3D%3D?line=1'>2</a>\u001b[0m y\u001b[39m=\u001b[39mnp\u001b[39m.\u001b[39mzeros((\u001b[39mlen\u001b[39m(next_words),\u001b[39mlen\u001b[39m(unique_tokens)),dtype\u001b[39m=\u001b[39m\u001b[39mbool\u001b[39m) \n",
      "\u001b[1;31mMemoryError\u001b[0m: Unable to allocate 329. GiB for an array with shape (19064, 10, 1853239) and data type bool"
     ]
    }
   ],
   "source": [
    "X=np.zeros((len(input_words),n_words,len(unique_tokens)),dtype=bool)\n",
    "y=np.zeros((len(next_words),len(unique_tokens)),dtype=bool) "
   ]
  },
  {
   "cell_type": "code",
   "execution_count": 62,
   "metadata": {},
   "outputs": [],
   "source": [
    "for i , words in enumerate(input_words):\n",
    "    for j , word in enumerate(words):\n",
    "        X[i,j,unique_token_index[word]]=1\n",
    "        y[i,unique_token_index[next_words[i]]]=1"
   ]
  },
  {
   "cell_type": "code",
   "execution_count": 22,
   "metadata": {},
   "outputs": [],
   "source": [
    "model=Sequential()\n",
    "model.add(LSTM(128,input_shape=(n_words,len(unique_token)),return_sequences=True))\n",
    "model.add(LSTM(128))#,input_shape(n_words,len(unique_token)),return_sequences=True))\n",
    "model.add(Dense(len(unique_token)))\n",
    "model.add(Activation('softmax'))"
   ]
  },
  {
   "cell_type": "code",
   "execution_count": 23,
   "metadata": {},
   "outputs": [
    {
     "name": "stdout",
     "output_type": "stream",
     "text": [
      "Epoch 1/10\n",
      "149/149 [==============================] - 15s 75ms/step - loss: 5.9262 - accuracy: 0.0931\n",
      "Epoch 2/10\n",
      "149/149 [==============================] - 11s 74ms/step - loss: 5.5084 - accuracy: 0.1350\n",
      "Epoch 3/10\n",
      "149/149 [==============================] - 11s 75ms/step - loss: 5.1028 - accuracy: 0.1728\n",
      "Epoch 4/10\n",
      "149/149 [==============================] - 10s 70ms/step - loss: 4.7179 - accuracy: 0.2100\n",
      "Epoch 5/10\n",
      "149/149 [==============================] - 11s 72ms/step - loss: 4.4156 - accuracy: 0.2310\n",
      "Epoch 6/10\n",
      "149/149 [==============================] - 11s 72ms/step - loss: 4.1557 - accuracy: 0.2569\n",
      "Epoch 7/10\n",
      "149/149 [==============================] - 10s 70ms/step - loss: 3.9178 - accuracy: 0.2823\n",
      "Epoch 8/10\n",
      "149/149 [==============================] - 10s 69ms/step - loss: 3.6771 - accuracy: 0.3086\n",
      "Epoch 9/10\n",
      "149/149 [==============================] - 10s 70ms/step - loss: 3.4421 - accuracy: 0.3390\n",
      "Epoch 10/10\n",
      "149/149 [==============================] - 11s 73ms/step - loss: 3.1879 - accuracy: 0.3715\n"
     ]
    },
    {
     "data": {
      "text/plain": [
       "<keras.src.callbacks.History at 0x1e7647b5490>"
      ]
     },
     "execution_count": 23,
     "metadata": {},
     "output_type": "execute_result"
    }
   ],
   "source": [
    "model.compile(loss='categorical_crossentropy',optimizer=RMSprop(learning_rate=0.01),metrics=['accuracy'])\n"
   ]
  },
  {
   "cell_type": "code",
   "execution_count": 49,
   "metadata": {},
   "outputs": [
    {
     "name": "stdout",
     "output_type": "stream",
     "text": [
      "Epoch 1/10\n"
     ]
    },
    {
     "ename": "InvalidArgumentError",
     "evalue": "Graph execution error:\n\nDetected at node 'while/MatMul' defined at (most recent call last):\n    File \"<frozen runpy>\", line 198, in _run_module_as_main\n    File \"<frozen runpy>\", line 88, in _run_code\n    File \"c:\\Users\\RohanRVC\\Documents\\Business\\E-books\\E_Books_Unknown_AI\\Book\\Lib\\site-packages\\ipykernel_launcher.py\", line 17, in <module>\n      app.launch_new_instance()\n    File \"c:\\Users\\RohanRVC\\Documents\\Business\\E-books\\E_Books_Unknown_AI\\Book\\Lib\\site-packages\\traitlets\\config\\application.py\", line 1046, in launch_instance\n      app.start()\n    File \"c:\\Users\\RohanRVC\\Documents\\Business\\E-books\\E_Books_Unknown_AI\\Book\\Lib\\site-packages\\ipykernel\\kernelapp.py\", line 736, in start\n      self.io_loop.start()\n    File \"c:\\Users\\RohanRVC\\Documents\\Business\\E-books\\E_Books_Unknown_AI\\Book\\Lib\\site-packages\\tornado\\platform\\asyncio.py\", line 195, in start\n      self.asyncio_loop.run_forever()\n    File \"C:\\Users\\RohanRVC\\AppData\\Local\\Programs\\Python\\Python311\\Lib\\asyncio\\base_events.py\", line 607, in run_forever\n      self._run_once()\n    File \"C:\\Users\\RohanRVC\\AppData\\Local\\Programs\\Python\\Python311\\Lib\\asyncio\\base_events.py\", line 1919, in _run_once\n      handle._run()\n    File \"C:\\Users\\RohanRVC\\AppData\\Local\\Programs\\Python\\Python311\\Lib\\asyncio\\events.py\", line 80, in _run\n      self._context.run(self._callback, *self._args)\n    File \"c:\\Users\\RohanRVC\\Documents\\Business\\E-books\\E_Books_Unknown_AI\\Book\\Lib\\site-packages\\ipykernel\\kernelbase.py\", line 516, in dispatch_queue\n      await self.process_one()\n    File \"c:\\Users\\RohanRVC\\Documents\\Business\\E-books\\E_Books_Unknown_AI\\Book\\Lib\\site-packages\\ipykernel\\kernelbase.py\", line 505, in process_one\n      await dispatch(*args)\n    File \"c:\\Users\\RohanRVC\\Documents\\Business\\E-books\\E_Books_Unknown_AI\\Book\\Lib\\site-packages\\ipykernel\\kernelbase.py\", line 412, in dispatch_shell\n      await result\n    File \"c:\\Users\\RohanRVC\\Documents\\Business\\E-books\\E_Books_Unknown_AI\\Book\\Lib\\site-packages\\ipykernel\\kernelbase.py\", line 740, in execute_request\n      reply_content = await reply_content\n    File \"c:\\Users\\RohanRVC\\Documents\\Business\\E-books\\E_Books_Unknown_AI\\Book\\Lib\\site-packages\\ipykernel\\ipkernel.py\", line 422, in do_execute\n      res = shell.run_cell(\n    File \"c:\\Users\\RohanRVC\\Documents\\Business\\E-books\\E_Books_Unknown_AI\\Book\\Lib\\site-packages\\ipykernel\\zmqshell.py\", line 546, in run_cell\n      return super().run_cell(*args, **kwargs)\n    File \"c:\\Users\\RohanRVC\\Documents\\Business\\E-books\\E_Books_Unknown_AI\\Book\\Lib\\site-packages\\IPython\\core\\interactiveshell.py\", line 3024, in run_cell\n      result = self._run_cell(\n    File \"c:\\Users\\RohanRVC\\Documents\\Business\\E-books\\E_Books_Unknown_AI\\Book\\Lib\\site-packages\\IPython\\core\\interactiveshell.py\", line 3079, in _run_cell\n      result = runner(coro)\n    File \"c:\\Users\\RohanRVC\\Documents\\Business\\E-books\\E_Books_Unknown_AI\\Book\\Lib\\site-packages\\IPython\\core\\async_helpers.py\", line 129, in _pseudo_sync_runner\n      coro.send(None)\n    File \"c:\\Users\\RohanRVC\\Documents\\Business\\E-books\\E_Books_Unknown_AI\\Book\\Lib\\site-packages\\IPython\\core\\interactiveshell.py\", line 3284, in run_cell_async\n      has_raised = await self.run_ast_nodes(code_ast.body, cell_name,\n    File \"c:\\Users\\RohanRVC\\Documents\\Business\\E-books\\E_Books_Unknown_AI\\Book\\Lib\\site-packages\\IPython\\core\\interactiveshell.py\", line 3466, in run_ast_nodes\n      if await self.run_code(code, result, async_=asy):\n    File \"c:\\Users\\RohanRVC\\Documents\\Business\\E-books\\E_Books_Unknown_AI\\Book\\Lib\\site-packages\\IPython\\core\\interactiveshell.py\", line 3526, in run_code\n      exec(code_obj, self.user_global_ns, self.user_ns)\n    File \"C:\\Users\\RohanRVC\\AppData\\Local\\Temp\\ipykernel_39440\\2329698693.py\", line 1, in <module>\n      model.fit(X,y,batch_size=128,epochs=10,shuffle=True)\n    File \"c:\\Users\\RohanRVC\\Documents\\Business\\E-books\\E_Books_Unknown_AI\\Book\\Lib\\site-packages\\keras\\src\\utils\\traceback_utils.py\", line 65, in error_handler\n      return fn(*args, **kwargs)\n    File \"c:\\Users\\RohanRVC\\Documents\\Business\\E-books\\E_Books_Unknown_AI\\Book\\Lib\\site-packages\\keras\\src\\engine\\training.py\", line 1742, in fit\n      tmp_logs = self.train_function(iterator)\n    File \"c:\\Users\\RohanRVC\\Documents\\Business\\E-books\\E_Books_Unknown_AI\\Book\\Lib\\site-packages\\keras\\src\\engine\\training.py\", line 1338, in train_function\n      return step_function(self, iterator)\n    File \"c:\\Users\\RohanRVC\\Documents\\Business\\E-books\\E_Books_Unknown_AI\\Book\\Lib\\site-packages\\keras\\src\\engine\\training.py\", line 1322, in step_function\n      outputs = model.distribute_strategy.run(run_step, args=(data,))\n    File \"c:\\Users\\RohanRVC\\Documents\\Business\\E-books\\E_Books_Unknown_AI\\Book\\Lib\\site-packages\\keras\\src\\engine\\training.py\", line 1303, in run_step\n      outputs = model.train_step(data)\n    File \"c:\\Users\\RohanRVC\\Documents\\Business\\E-books\\E_Books_Unknown_AI\\Book\\Lib\\site-packages\\keras\\src\\engine\\training.py\", line 1080, in train_step\n      y_pred = self(x, training=True)\n    File \"c:\\Users\\RohanRVC\\Documents\\Business\\E-books\\E_Books_Unknown_AI\\Book\\Lib\\site-packages\\keras\\src\\utils\\traceback_utils.py\", line 65, in error_handler\n      return fn(*args, **kwargs)\n    File \"c:\\Users\\RohanRVC\\Documents\\Business\\E-books\\E_Books_Unknown_AI\\Book\\Lib\\site-packages\\keras\\src\\engine\\training.py\", line 569, in __call__\n      return super().__call__(*args, **kwargs)\n    File \"c:\\Users\\RohanRVC\\Documents\\Business\\E-books\\E_Books_Unknown_AI\\Book\\Lib\\site-packages\\keras\\src\\utils\\traceback_utils.py\", line 65, in error_handler\n      return fn(*args, **kwargs)\n    File \"c:\\Users\\RohanRVC\\Documents\\Business\\E-books\\E_Books_Unknown_AI\\Book\\Lib\\site-packages\\keras\\src\\engine\\base_layer.py\", line 1150, in __call__\n      outputs = call_fn(inputs, *args, **kwargs)\n    File \"c:\\Users\\RohanRVC\\Documents\\Business\\E-books\\E_Books_Unknown_AI\\Book\\Lib\\site-packages\\keras\\src\\utils\\traceback_utils.py\", line 96, in error_handler\n      return fn(*args, **kwargs)\n    File \"c:\\Users\\RohanRVC\\Documents\\Business\\E-books\\E_Books_Unknown_AI\\Book\\Lib\\site-packages\\keras\\src\\engine\\sequential.py\", line 405, in call\n      return super().call(inputs, training=training, mask=mask)\n    File \"c:\\Users\\RohanRVC\\Documents\\Business\\E-books\\E_Books_Unknown_AI\\Book\\Lib\\site-packages\\keras\\src\\engine\\functional.py\", line 512, in call\n      return self._run_internal_graph(inputs, training=training, mask=mask)\n    File \"c:\\Users\\RohanRVC\\Documents\\Business\\E-books\\E_Books_Unknown_AI\\Book\\Lib\\site-packages\\keras\\src\\engine\\functional.py\", line 669, in _run_internal_graph\n      outputs = node.layer(*args, **kwargs)\n    File \"c:\\Users\\RohanRVC\\Documents\\Business\\E-books\\E_Books_Unknown_AI\\Book\\Lib\\site-packages\\keras\\src\\layers\\rnn\\base_rnn.py\", line 556, in __call__\n      return super().__call__(inputs, **kwargs)\n    File \"c:\\Users\\RohanRVC\\Documents\\Business\\E-books\\E_Books_Unknown_AI\\Book\\Lib\\site-packages\\keras\\src\\utils\\traceback_utils.py\", line 65, in error_handler\n      return fn(*args, **kwargs)\n    File \"c:\\Users\\RohanRVC\\Documents\\Business\\E-books\\E_Books_Unknown_AI\\Book\\Lib\\site-packages\\keras\\src\\engine\\base_layer.py\", line 1150, in __call__\n      outputs = call_fn(inputs, *args, **kwargs)\n    File \"c:\\Users\\RohanRVC\\Documents\\Business\\E-books\\E_Books_Unknown_AI\\Book\\Lib\\site-packages\\keras\\src\\utils\\traceback_utils.py\", line 96, in error_handler\n      return fn(*args, **kwargs)\n    File \"c:\\Users\\RohanRVC\\Documents\\Business\\E-books\\E_Books_Unknown_AI\\Book\\Lib\\site-packages\\keras\\src\\layers\\rnn\\lstm.py\", line 749, in call\n      ) = lstm_with_backend_selection(**normal_lstm_kwargs)\n    File \"c:\\Users\\RohanRVC\\Documents\\Business\\E-books\\E_Books_Unknown_AI\\Book\\Lib\\site-packages\\keras\\src\\layers\\rnn\\lstm.py\", line 1339, in lstm_with_backend_selection\n      last_output, outputs, new_h, new_c, runtime = defun_standard_lstm(\n    File \"c:\\Users\\RohanRVC\\Documents\\Business\\E-books\\E_Books_Unknown_AI\\Book\\Lib\\site-packages\\keras\\src\\layers\\rnn\\lstm.py\", line 981, in standard_lstm\n      last_output, outputs, new_states = backend.rnn(\n    File \"c:\\Users\\RohanRVC\\Documents\\Business\\E-books\\E_Books_Unknown_AI\\Book\\Lib\\site-packages\\keras\\src\\backend.py\", line 5170, in rnn\n      final_outputs = tf.compat.v1.while_loop(\n    File \"c:\\Users\\RohanRVC\\Documents\\Business\\E-books\\E_Books_Unknown_AI\\Book\\Lib\\site-packages\\keras\\src\\backend.py\", line 5149, in _step\n      output, new_states = step_function(\n    File \"c:\\Users\\RohanRVC\\Documents\\Business\\E-books\\E_Books_Unknown_AI\\Book\\Lib\\site-packages\\keras\\src\\layers\\rnn\\lstm.py\", line 967, in step\n      z = backend.dot(cell_inputs, kernel)\n    File \"c:\\Users\\RohanRVC\\Documents\\Business\\E-books\\E_Books_Unknown_AI\\Book\\Lib\\site-packages\\keras\\src\\backend.py\", line 2465, in dot\n      out = tf.matmul(x, y)\nNode: 'while/MatMul'\nMatrix size-incompatible: In[0]: [128,1651], In[1]: [2299,512]\n\t [[{{node while/MatMul}}]]\n\t [[sequential/lstm/PartitionedCall]] [Op:__inference_train_function_24566]",
     "output_type": "error",
     "traceback": [
      "\u001b[1;31m---------------------------------------------------------------------------\u001b[0m",
      "\u001b[1;31mInvalidArgumentError\u001b[0m                      Traceback (most recent call last)",
      "\u001b[1;32mc:\\Users\\RohanRVC\\Documents\\Business\\E-books\\E_Books_Unknown_AI\\03.4_text_generation.ipynb Cell 27\u001b[0m line \u001b[0;36m1\n\u001b[1;32m----> <a href='vscode-notebook-cell:/c%3A/Users/RohanRVC/Documents/Business/E-books/E_Books_Unknown_AI/03.4_text_generation.ipynb#Y105sZmlsZQ%3D%3D?line=0'>1</a>\u001b[0m model\u001b[39m.\u001b[39;49mfit(X,y,batch_size\u001b[39m=\u001b[39;49m\u001b[39m128\u001b[39;49m,epochs\u001b[39m=\u001b[39;49m\u001b[39m10\u001b[39;49m,shuffle\u001b[39m=\u001b[39;49m\u001b[39mTrue\u001b[39;49;00m)\n",
      "File \u001b[1;32mc:\\Users\\RohanRVC\\Documents\\Business\\E-books\\E_Books_Unknown_AI\\Book\\Lib\\site-packages\\keras\\src\\utils\\traceback_utils.py:70\u001b[0m, in \u001b[0;36mfilter_traceback.<locals>.error_handler\u001b[1;34m(*args, **kwargs)\u001b[0m\n\u001b[0;32m     67\u001b[0m     filtered_tb \u001b[39m=\u001b[39m _process_traceback_frames(e\u001b[39m.\u001b[39m__traceback__)\n\u001b[0;32m     68\u001b[0m     \u001b[39m# To get the full stack trace, call:\u001b[39;00m\n\u001b[0;32m     69\u001b[0m     \u001b[39m# `tf.debugging.disable_traceback_filtering()`\u001b[39;00m\n\u001b[1;32m---> 70\u001b[0m     \u001b[39mraise\u001b[39;00m e\u001b[39m.\u001b[39mwith_traceback(filtered_tb) \u001b[39mfrom\u001b[39;00m \u001b[39mNone\u001b[39;00m\n\u001b[0;32m     71\u001b[0m \u001b[39mfinally\u001b[39;00m:\n\u001b[0;32m     72\u001b[0m     \u001b[39mdel\u001b[39;00m filtered_tb\n",
      "File \u001b[1;32mc:\\Users\\RohanRVC\\Documents\\Business\\E-books\\E_Books_Unknown_AI\\Book\\Lib\\site-packages\\tensorflow\\python\\eager\\execute.py:53\u001b[0m, in \u001b[0;36mquick_execute\u001b[1;34m(op_name, num_outputs, inputs, attrs, ctx, name)\u001b[0m\n\u001b[0;32m     51\u001b[0m \u001b[39mtry\u001b[39;00m:\n\u001b[0;32m     52\u001b[0m   ctx\u001b[39m.\u001b[39mensure_initialized()\n\u001b[1;32m---> 53\u001b[0m   tensors \u001b[39m=\u001b[39m pywrap_tfe\u001b[39m.\u001b[39mTFE_Py_Execute(ctx\u001b[39m.\u001b[39m_handle, device_name, op_name,\n\u001b[0;32m     54\u001b[0m                                       inputs, attrs, num_outputs)\n\u001b[0;32m     55\u001b[0m \u001b[39mexcept\u001b[39;00m core\u001b[39m.\u001b[39m_NotOkStatusException \u001b[39mas\u001b[39;00m e:\n\u001b[0;32m     56\u001b[0m   \u001b[39mif\u001b[39;00m name \u001b[39mis\u001b[39;00m \u001b[39mnot\u001b[39;00m \u001b[39mNone\u001b[39;00m:\n",
      "\u001b[1;31mInvalidArgumentError\u001b[0m: Graph execution error:\n\nDetected at node 'while/MatMul' defined at (most recent call last):\n    File \"<frozen runpy>\", line 198, in _run_module_as_main\n    File \"<frozen runpy>\", line 88, in _run_code\n    File \"c:\\Users\\RohanRVC\\Documents\\Business\\E-books\\E_Books_Unknown_AI\\Book\\Lib\\site-packages\\ipykernel_launcher.py\", line 17, in <module>\n      app.launch_new_instance()\n    File \"c:\\Users\\RohanRVC\\Documents\\Business\\E-books\\E_Books_Unknown_AI\\Book\\Lib\\site-packages\\traitlets\\config\\application.py\", line 1046, in launch_instance\n      app.start()\n    File \"c:\\Users\\RohanRVC\\Documents\\Business\\E-books\\E_Books_Unknown_AI\\Book\\Lib\\site-packages\\ipykernel\\kernelapp.py\", line 736, in start\n      self.io_loop.start()\n    File \"c:\\Users\\RohanRVC\\Documents\\Business\\E-books\\E_Books_Unknown_AI\\Book\\Lib\\site-packages\\tornado\\platform\\asyncio.py\", line 195, in start\n      self.asyncio_loop.run_forever()\n    File \"C:\\Users\\RohanRVC\\AppData\\Local\\Programs\\Python\\Python311\\Lib\\asyncio\\base_events.py\", line 607, in run_forever\n      self._run_once()\n    File \"C:\\Users\\RohanRVC\\AppData\\Local\\Programs\\Python\\Python311\\Lib\\asyncio\\base_events.py\", line 1919, in _run_once\n      handle._run()\n    File \"C:\\Users\\RohanRVC\\AppData\\Local\\Programs\\Python\\Python311\\Lib\\asyncio\\events.py\", line 80, in _run\n      self._context.run(self._callback, *self._args)\n    File \"c:\\Users\\RohanRVC\\Documents\\Business\\E-books\\E_Books_Unknown_AI\\Book\\Lib\\site-packages\\ipykernel\\kernelbase.py\", line 516, in dispatch_queue\n      await self.process_one()\n    File \"c:\\Users\\RohanRVC\\Documents\\Business\\E-books\\E_Books_Unknown_AI\\Book\\Lib\\site-packages\\ipykernel\\kernelbase.py\", line 505, in process_one\n      await dispatch(*args)\n    File \"c:\\Users\\RohanRVC\\Documents\\Business\\E-books\\E_Books_Unknown_AI\\Book\\Lib\\site-packages\\ipykernel\\kernelbase.py\", line 412, in dispatch_shell\n      await result\n    File \"c:\\Users\\RohanRVC\\Documents\\Business\\E-books\\E_Books_Unknown_AI\\Book\\Lib\\site-packages\\ipykernel\\kernelbase.py\", line 740, in execute_request\n      reply_content = await reply_content\n    File \"c:\\Users\\RohanRVC\\Documents\\Business\\E-books\\E_Books_Unknown_AI\\Book\\Lib\\site-packages\\ipykernel\\ipkernel.py\", line 422, in do_execute\n      res = shell.run_cell(\n    File \"c:\\Users\\RohanRVC\\Documents\\Business\\E-books\\E_Books_Unknown_AI\\Book\\Lib\\site-packages\\ipykernel\\zmqshell.py\", line 546, in run_cell\n      return super().run_cell(*args, **kwargs)\n    File \"c:\\Users\\RohanRVC\\Documents\\Business\\E-books\\E_Books_Unknown_AI\\Book\\Lib\\site-packages\\IPython\\core\\interactiveshell.py\", line 3024, in run_cell\n      result = self._run_cell(\n    File \"c:\\Users\\RohanRVC\\Documents\\Business\\E-books\\E_Books_Unknown_AI\\Book\\Lib\\site-packages\\IPython\\core\\interactiveshell.py\", line 3079, in _run_cell\n      result = runner(coro)\n    File \"c:\\Users\\RohanRVC\\Documents\\Business\\E-books\\E_Books_Unknown_AI\\Book\\Lib\\site-packages\\IPython\\core\\async_helpers.py\", line 129, in _pseudo_sync_runner\n      coro.send(None)\n    File \"c:\\Users\\RohanRVC\\Documents\\Business\\E-books\\E_Books_Unknown_AI\\Book\\Lib\\site-packages\\IPython\\core\\interactiveshell.py\", line 3284, in run_cell_async\n      has_raised = await self.run_ast_nodes(code_ast.body, cell_name,\n    File \"c:\\Users\\RohanRVC\\Documents\\Business\\E-books\\E_Books_Unknown_AI\\Book\\Lib\\site-packages\\IPython\\core\\interactiveshell.py\", line 3466, in run_ast_nodes\n      if await self.run_code(code, result, async_=asy):\n    File \"c:\\Users\\RohanRVC\\Documents\\Business\\E-books\\E_Books_Unknown_AI\\Book\\Lib\\site-packages\\IPython\\core\\interactiveshell.py\", line 3526, in run_code\n      exec(code_obj, self.user_global_ns, self.user_ns)\n    File \"C:\\Users\\RohanRVC\\AppData\\Local\\Temp\\ipykernel_39440\\2329698693.py\", line 1, in <module>\n      model.fit(X,y,batch_size=128,epochs=10,shuffle=True)\n    File \"c:\\Users\\RohanRVC\\Documents\\Business\\E-books\\E_Books_Unknown_AI\\Book\\Lib\\site-packages\\keras\\src\\utils\\traceback_utils.py\", line 65, in error_handler\n      return fn(*args, **kwargs)\n    File \"c:\\Users\\RohanRVC\\Documents\\Business\\E-books\\E_Books_Unknown_AI\\Book\\Lib\\site-packages\\keras\\src\\engine\\training.py\", line 1742, in fit\n      tmp_logs = self.train_function(iterator)\n    File \"c:\\Users\\RohanRVC\\Documents\\Business\\E-books\\E_Books_Unknown_AI\\Book\\Lib\\site-packages\\keras\\src\\engine\\training.py\", line 1338, in train_function\n      return step_function(self, iterator)\n    File \"c:\\Users\\RohanRVC\\Documents\\Business\\E-books\\E_Books_Unknown_AI\\Book\\Lib\\site-packages\\keras\\src\\engine\\training.py\", line 1322, in step_function\n      outputs = model.distribute_strategy.run(run_step, args=(data,))\n    File \"c:\\Users\\RohanRVC\\Documents\\Business\\E-books\\E_Books_Unknown_AI\\Book\\Lib\\site-packages\\keras\\src\\engine\\training.py\", line 1303, in run_step\n      outputs = model.train_step(data)\n    File \"c:\\Users\\RohanRVC\\Documents\\Business\\E-books\\E_Books_Unknown_AI\\Book\\Lib\\site-packages\\keras\\src\\engine\\training.py\", line 1080, in train_step\n      y_pred = self(x, training=True)\n    File \"c:\\Users\\RohanRVC\\Documents\\Business\\E-books\\E_Books_Unknown_AI\\Book\\Lib\\site-packages\\keras\\src\\utils\\traceback_utils.py\", line 65, in error_handler\n      return fn(*args, **kwargs)\n    File \"c:\\Users\\RohanRVC\\Documents\\Business\\E-books\\E_Books_Unknown_AI\\Book\\Lib\\site-packages\\keras\\src\\engine\\training.py\", line 569, in __call__\n      return super().__call__(*args, **kwargs)\n    File \"c:\\Users\\RohanRVC\\Documents\\Business\\E-books\\E_Books_Unknown_AI\\Book\\Lib\\site-packages\\keras\\src\\utils\\traceback_utils.py\", line 65, in error_handler\n      return fn(*args, **kwargs)\n    File \"c:\\Users\\RohanRVC\\Documents\\Business\\E-books\\E_Books_Unknown_AI\\Book\\Lib\\site-packages\\keras\\src\\engine\\base_layer.py\", line 1150, in __call__\n      outputs = call_fn(inputs, *args, **kwargs)\n    File \"c:\\Users\\RohanRVC\\Documents\\Business\\E-books\\E_Books_Unknown_AI\\Book\\Lib\\site-packages\\keras\\src\\utils\\traceback_utils.py\", line 96, in error_handler\n      return fn(*args, **kwargs)\n    File \"c:\\Users\\RohanRVC\\Documents\\Business\\E-books\\E_Books_Unknown_AI\\Book\\Lib\\site-packages\\keras\\src\\engine\\sequential.py\", line 405, in call\n      return super().call(inputs, training=training, mask=mask)\n    File \"c:\\Users\\RohanRVC\\Documents\\Business\\E-books\\E_Books_Unknown_AI\\Book\\Lib\\site-packages\\keras\\src\\engine\\functional.py\", line 512, in call\n      return self._run_internal_graph(inputs, training=training, mask=mask)\n    File \"c:\\Users\\RohanRVC\\Documents\\Business\\E-books\\E_Books_Unknown_AI\\Book\\Lib\\site-packages\\keras\\src\\engine\\functional.py\", line 669, in _run_internal_graph\n      outputs = node.layer(*args, **kwargs)\n    File \"c:\\Users\\RohanRVC\\Documents\\Business\\E-books\\E_Books_Unknown_AI\\Book\\Lib\\site-packages\\keras\\src\\layers\\rnn\\base_rnn.py\", line 556, in __call__\n      return super().__call__(inputs, **kwargs)\n    File \"c:\\Users\\RohanRVC\\Documents\\Business\\E-books\\E_Books_Unknown_AI\\Book\\Lib\\site-packages\\keras\\src\\utils\\traceback_utils.py\", line 65, in error_handler\n      return fn(*args, **kwargs)\n    File \"c:\\Users\\RohanRVC\\Documents\\Business\\E-books\\E_Books_Unknown_AI\\Book\\Lib\\site-packages\\keras\\src\\engine\\base_layer.py\", line 1150, in __call__\n      outputs = call_fn(inputs, *args, **kwargs)\n    File \"c:\\Users\\RohanRVC\\Documents\\Business\\E-books\\E_Books_Unknown_AI\\Book\\Lib\\site-packages\\keras\\src\\utils\\traceback_utils.py\", line 96, in error_handler\n      return fn(*args, **kwargs)\n    File \"c:\\Users\\RohanRVC\\Documents\\Business\\E-books\\E_Books_Unknown_AI\\Book\\Lib\\site-packages\\keras\\src\\layers\\rnn\\lstm.py\", line 749, in call\n      ) = lstm_with_backend_selection(**normal_lstm_kwargs)\n    File \"c:\\Users\\RohanRVC\\Documents\\Business\\E-books\\E_Books_Unknown_AI\\Book\\Lib\\site-packages\\keras\\src\\layers\\rnn\\lstm.py\", line 1339, in lstm_with_backend_selection\n      last_output, outputs, new_h, new_c, runtime = defun_standard_lstm(\n    File \"c:\\Users\\RohanRVC\\Documents\\Business\\E-books\\E_Books_Unknown_AI\\Book\\Lib\\site-packages\\keras\\src\\layers\\rnn\\lstm.py\", line 981, in standard_lstm\n      last_output, outputs, new_states = backend.rnn(\n    File \"c:\\Users\\RohanRVC\\Documents\\Business\\E-books\\E_Books_Unknown_AI\\Book\\Lib\\site-packages\\keras\\src\\backend.py\", line 5170, in rnn\n      final_outputs = tf.compat.v1.while_loop(\n    File \"c:\\Users\\RohanRVC\\Documents\\Business\\E-books\\E_Books_Unknown_AI\\Book\\Lib\\site-packages\\keras\\src\\backend.py\", line 5149, in _step\n      output, new_states = step_function(\n    File \"c:\\Users\\RohanRVC\\Documents\\Business\\E-books\\E_Books_Unknown_AI\\Book\\Lib\\site-packages\\keras\\src\\layers\\rnn\\lstm.py\", line 967, in step\n      z = backend.dot(cell_inputs, kernel)\n    File \"c:\\Users\\RohanRVC\\Documents\\Business\\E-books\\E_Books_Unknown_AI\\Book\\Lib\\site-packages\\keras\\src\\backend.py\", line 2465, in dot\n      out = tf.matmul(x, y)\nNode: 'while/MatMul'\nMatrix size-incompatible: In[0]: [128,1651], In[1]: [2299,512]\n\t [[{{node while/MatMul}}]]\n\t [[sequential/lstm/PartitionedCall]] [Op:__inference_train_function_24566]"
     ]
    }
   ],
   "source": [
    "model.fit(X,y,batch_size=128,epochs=10,shuffle=True)"
   ]
  },
  {
   "cell_type": "code",
   "execution_count": 74,
   "metadata": {},
   "outputs": [
    {
     "data": {
      "text/plain": [
       "(None, 10, 2299)"
      ]
     },
     "execution_count": 74,
     "metadata": {},
     "output_type": "execute_result"
    }
   ],
   "source": [
    "model.input_shape"
   ]
  },
  {
   "cell_type": "code",
   "execution_count": 37,
   "metadata": {},
   "outputs": [
    {
     "name": "stderr",
     "output_type": "stream",
     "text": [
      "c:\\Users\\RohanRVC\\Documents\\Business\\E-books\\E_Books_Unknown_AI\\Book\\Lib\\site-packages\\keras\\src\\engine\\training.py:3000: UserWarning: You are saving your model as an HDF5 file via `model.save()`. This file format is considered legacy. We recommend using instead the native Keras format, e.g. `model.save('my_model.keras')`.\n",
      "  saving_api.save_model(\n"
     ]
    }
   ],
   "source": [
    "model.save(\"C:/Users/RohanRVC/Documents/Business/E-books/E_Books_Unknown_AI/text_generation/Model/model_stage_1/mymodel.h5\")"
   ]
  },
  {
   "cell_type": "code",
   "execution_count": 36,
   "metadata": {},
   "outputs": [],
   "source": [
    "model=load_model(\"C:/Users/RohanRVC/Documents/Business/E-books/E_Books_Unknown_AI/text_generation/Model/model_stage_1/mymodel.h5\")"
   ]
  },
  {
   "cell_type": "code",
   "execution_count": 24,
   "metadata": {},
   "outputs": [],
   "source": [
    "def predict_next_word(input_text,n_best):\n",
    "    input_text=input_text.lower()\n",
    "    X=np.zeros((1,n_words,len(unique_token)))\n",
    "    for i , word in enumerate(input_text.split()):\n",
    "        X[0,i,unique_token_index[word]]=1\n",
    "\n",
    "    predictions=model.predict(X)[0]\n",
    "    return np.argpartition(predictions,-n_best)[-n_best:]"
   ]
  },
  {
   "cell_type": "code",
   "execution_count": 25,
   "metadata": {},
   "outputs": [
    {
     "name": "stdout",
     "output_type": "stream",
     "text": [
      "1/1 [==============================] - 1s 650ms/step\n"
     ]
    }
   ],
   "source": [
    "possible=predict_next_word(\"I know that the only person is\",5)"
   ]
  },
  {
   "cell_type": "code",
   "execution_count": 26,
   "metadata": {},
   "outputs": [
    {
     "data": {
      "text/plain": [
       "['upon', 'with', 'we', 'any', 'as']"
      ]
     },
     "execution_count": 26,
     "metadata": {},
     "output_type": "execute_result"
    }
   ],
   "source": [
    "[unique_token[idx] for idx in possible]"
   ]
  },
  {
   "cell_type": "code",
   "execution_count": 27,
   "metadata": {},
   "outputs": [],
   "source": [
    "def Generate_text(input_text,text_length,creativity=3): \n",
    "    #creativity is how many do we want to chose from \n",
    "    #like what the best word will be from the n_best choices\n",
    "    word_sequence=input_text.split()\n",
    "    current=0\n",
    "    for _ in range(text_length):\n",
    "        sub_sequence=' '.join(tokenizer.tokenize(\" \".join(word_sequence).lower())[current:current+n_words])\n",
    "        try:\n",
    "            choice=unique_token[random.choice(list(predict_next_word(sub_sequence,creativity)))]\n",
    "        except:\n",
    "            choice=random.choice(unique_token)\n",
    "        word_sequence.append(choice)\n",
    "        current+=1\n",
    "    return \" \".join(word_sequence)"
   ]
  },
  {
   "cell_type": "code",
   "execution_count": 34,
   "metadata": {},
   "outputs": [
    {
     "name": "stdout",
     "output_type": "stream",
     "text": [
      "1/1 [==============================] - 0s 18ms/step\n"
     ]
    },
    {
     "name": "stdout",
     "output_type": "stream",
     "text": [
      "1/1 [==============================] - 0s 16ms/step\n",
      "1/1 [==============================] - 0s 21ms/step\n",
      "1/1 [==============================] - 0s 30ms/step\n",
      "1/1 [==============================] - 0s 34ms/step\n",
      "1/1 [==============================] - 0s 20ms/step\n",
      "1/1 [==============================] - 0s 25ms/step\n",
      "1/1 [==============================] - 0s 18ms/step\n",
      "1/1 [==============================] - 0s 20ms/step\n",
      "1/1 [==============================] - 0s 21ms/step\n",
      "1/1 [==============================] - 0s 19ms/step\n",
      "1/1 [==============================] - 0s 20ms/step\n",
      "1/1 [==============================] - 0s 20ms/step\n",
      "1/1 [==============================] - 0s 21ms/step\n",
      "1/1 [==============================] - 0s 22ms/step\n",
      "1/1 [==============================] - 0s 25ms/step\n",
      "1/1 [==============================] - 0s 24ms/step\n",
      "1/1 [==============================] - 0s 21ms/step\n",
      "1/1 [==============================] - 0s 31ms/step\n",
      "1/1 [==============================] - 0s 20ms/step\n",
      "1/1 [==============================] - 0s 27ms/step\n",
      "1/1 [==============================] - 0s 19ms/step\n",
      "1/1 [==============================] - 0s 22ms/step\n",
      "1/1 [==============================] - 0s 33ms/step\n",
      "1/1 [==============================] - 0s 23ms/step\n",
      "1/1 [==============================] - 0s 23ms/step\n",
      "1/1 [==============================] - 0s 23ms/step\n",
      "1/1 [==============================] - 0s 21ms/step\n",
      "1/1 [==============================] - 0s 24ms/step\n",
      "1/1 [==============================] - 0s 20ms/step\n",
      "1/1 [==============================] - 0s 23ms/step\n",
      "1/1 [==============================] - 0s 19ms/step\n",
      "1/1 [==============================] - 0s 17ms/step\n",
      "1/1 [==============================] - 0s 19ms/step\n",
      "1/1 [==============================] - 0s 8ms/step\n",
      "1/1 [==============================] - 0s 24ms/step\n",
      "1/1 [==============================] - 0s 29ms/step\n",
      "1/1 [==============================] - 0s 16ms/step\n",
      "1/1 [==============================] - 0s 15ms/step\n",
      "1/1 [==============================] - 0s 9ms/step\n",
      "1/1 [==============================] - 0s 11ms/step\n",
      "1/1 [==============================] - 0s 15ms/step\n",
      "1/1 [==============================] - 0s 15ms/step\n",
      "1/1 [==============================] - 0s 9ms/step\n",
      "1/1 [==============================] - 0s 15ms/step\n",
      "1/1 [==============================] - 0s 12ms/step\n",
      "1/1 [==============================] - 0s 17ms/step\n",
      "1/1 [==============================] - 0s 6ms/step\n",
      "1/1 [==============================] - 0s 11ms/step\n",
      "1/1 [==============================] - 0s 20ms/step\n",
      "1/1 [==============================] - 0s 25ms/step\n",
      "1/1 [==============================] - 0s 23ms/step\n",
      "1/1 [==============================] - 0s 13ms/step\n",
      "1/1 [==============================] - 0s 17ms/step\n",
      "1/1 [==============================] - 0s 20ms/step\n",
      "1/1 [==============================] - 0s 21ms/step\n",
      "1/1 [==============================] - 0s 14ms/step\n",
      "1/1 [==============================] - 0s 17ms/step\n",
      "1/1 [==============================] - 0s 6ms/step\n",
      "1/1 [==============================] - 0s 11ms/step\n",
      "1/1 [==============================] - 0s 18ms/step\n",
      "1/1 [==============================] - 0s 14ms/step\n",
      "1/1 [==============================] - 0s 12ms/step\n",
      "1/1 [==============================] - 0s 15ms/step\n",
      "1/1 [==============================] - 0s 7ms/step\n",
      "1/1 [==============================] - 0s 8ms/step\n",
      "1/1 [==============================] - 0s 15ms/step\n",
      "1/1 [==============================] - 0s 18ms/step\n",
      "1/1 [==============================] - 0s 14ms/step\n",
      "1/1 [==============================] - 0s 7ms/step\n",
      "1/1 [==============================] - 0s 19ms/step\n",
      "1/1 [==============================] - 0s 21ms/step\n",
      "1/1 [==============================] - 0s 13ms/step\n",
      "1/1 [==============================] - 0s 34ms/step\n",
      "1/1 [==============================] - 0s 18ms/step\n",
      "1/1 [==============================] - 0s 16ms/step\n",
      "1/1 [==============================] - 0s 13ms/step\n",
      "1/1 [==============================] - 0s 11ms/step\n",
      "1/1 [==============================] - 0s 18ms/step\n",
      "1/1 [==============================] - 0s 8ms/step\n",
      "1/1 [==============================] - 0s 19ms/step\n",
      "1/1 [==============================] - 0s 13ms/step\n",
      "1/1 [==============================] - 0s 10ms/step\n",
      "1/1 [==============================] - 0s 18ms/step\n",
      "1/1 [==============================] - 0s 3ms/step\n",
      "1/1 [==============================] - 0s 11ms/step\n",
      "1/1 [==============================] - 0s 18ms/step\n",
      "1/1 [==============================] - 0s 11ms/step\n",
      "1/1 [==============================] - 0s 10ms/step\n",
      "1/1 [==============================] - 0s 31ms/step\n",
      "1/1 [==============================] - 0s 13ms/step\n",
      "1/1 [==============================] - 0s 7ms/step\n",
      "1/1 [==============================] - 0s 19ms/step\n",
      "1/1 [==============================] - 0s 13ms/step\n",
      "1/1 [==============================] - 0s 18ms/step\n",
      "1/1 [==============================] - 0s 7ms/step\n",
      "1/1 [==============================] - 0s 18ms/step\n",
      "1/1 [==============================] - 0s 7ms/step\n",
      "1/1 [==============================] - 0s 11ms/step\n",
      "1/1 [==============================] - 0s 18ms/step\n",
      "1/1 [==============================] - 0s 11ms/step\n",
      "1/1 [==============================] - 0s 14ms/step\n",
      "1/1 [==============================] - 0s 8ms/step\n",
      "1/1 [==============================] - 0s 15ms/step\n",
      "1/1 [==============================] - 0s 11ms/step\n",
      "1/1 [==============================] - 0s 17ms/step\n",
      "1/1 [==============================] - 0s 8ms/step\n",
      "1/1 [==============================] - 0s 13ms/step\n",
      "1/1 [==============================] - 0s 22ms/step\n",
      "1/1 [==============================] - 0s 7ms/step\n",
      "1/1 [==============================] - 0s 8ms/step\n",
      "1/1 [==============================] - 0s 15ms/step\n",
      "1/1 [==============================] - 0s 9ms/step\n",
      "1/1 [==============================] - 0s 14ms/step\n",
      "1/1 [==============================] - 0s 5ms/step\n"
     ]
    }
   ],
   "source": [
    "Final_text=Generate_text(\"I know that the only person is\",115,5)"
   ]
  },
  {
   "cell_type": "code",
   "execution_count": 35,
   "metadata": {},
   "outputs": [
    {
     "data": {
      "text/plain": [
       "'I know that the only person is upon in upon in a and as as any upon we thee there and there in unto for a upon i his the and that with we and they they with his in a upon and on his in they at with these unto their his his the upon and these toward s there and forth the and there in and out there the in the from and and there the upon his his in the and out their every and in they upon the upon and into these these of in in their in these that we to they in a with we in their in a in a to a it thou he'"
      ]
     },
     "execution_count": 35,
     "metadata": {},
     "output_type": "execute_result"
    }
   ],
   "source": [
    "Final_text"
   ]
  },
  {
   "cell_type": "code",
   "execution_count": 36,
   "metadata": {},
   "outputs": [],
   "source": [
    "import pickle\n",
    "\n",
    "# Assuming unique_token and unique_token_index are your data\n",
    "# unique_tokens = ...  # your unique tokens\n",
    "# unique_token_index = ...  # your unique token index mapping\n",
    "\n",
    "# Save unique_tokens\n",
    "with open('C:/Users/RohanRVC/Documents/Business/E-books/E_Books_Unknown_AI/text_generation/Model/model_stage_1/unique_tokens.pkl', 'wb') as f:\n",
    "    pickle.dump(unique_token, f)\n",
    "\n",
    "# Save unique_token_index\n",
    "with open('C:/Users/RohanRVC/Documents/Business/E-books/E_Books_Unknown_AI/text_generation/Model/model_stage_1/unique_token_index.pkl', 'wb') as f:\n",
    "    pickle.dump(unique_token_index, f)\n"
   ]
  },
  {
   "cell_type": "code",
   "execution_count": 27,
   "metadata": {},
   "outputs": [],
   "source": [
    "chunk_size = 100000  # Adjust as per your memory capacity\n",
    "n_words = 10  # Number of words in each sequence\n"
   ]
  },
  {
   "cell_type": "code",
   "execution_count": 28,
   "metadata": {},
   "outputs": [],
   "source": [
    "# Load unique tokens and indices\n",
    "with open('C:/Users/RohanRVC/Documents/Business/E-books/E_Books_Unknown_AI/text_generation/Model/model_stage_1/unique_tokens.pkl', 'rb') as f:\n",
    "    unique_tokens = pickle.load(f)\n",
    "\n",
    "with open('C:/Users/RohanRVC/Documents/Business/E-books/E_Books_Unknown_AI/text_generation/Model/model_stage_1/unique_token_index.pkl', 'rb') as f:\n",
    "    unique_token_index = pickle.load(f)\n"
   ]
  },
  {
   "cell_type": "code",
   "execution_count": 29,
   "metadata": {},
   "outputs": [],
   "source": [
    "# Load an existing model or initialize a new one\n",
    "try:\n",
    "    model = load_model(\"C:/Users/RohanRVC/Documents/Business/E-books/E_Books_Unknown_AI/text_generation/Model/model_stage_1/mymodel.h5\")\n",
    "except IOError:\n",
    "    model = Sequential()  # Add model layers here\n",
    "    # Compile the model\n",
    "    model.compile(loss='categorical_crossentropy', optimizer=RMSprop(lr=0.01), metrics=['accuracy'])\n"
   ]
  },
  {
   "cell_type": "code",
   "execution_count": 30,
   "metadata": {},
   "outputs": [
    {
     "name": "stdout",
     "output_type": "stream",
     "text": [
      "Epoch 1/30\n",
      "149/149 [==============================] - 14s 76ms/step - loss: 6.0514 - accuracy: 0.1090\n",
      "Epoch 2/30\n",
      "149/149 [==============================] - 13s 85ms/step - loss: 5.4197 - accuracy: 0.1685\n",
      "Epoch 3/30\n",
      "149/149 [==============================] - 12s 83ms/step - loss: 4.9878 - accuracy: 0.2024\n",
      "Epoch 4/30\n",
      "149/149 [==============================] - 12s 80ms/step - loss: 4.6317 - accuracy: 0.2324\n",
      "Epoch 5/30\n",
      "149/149 [==============================] - 11s 76ms/step - loss: 4.3145 - accuracy: 0.2580\n",
      "Epoch 6/30\n",
      "149/149 [==============================] - 11s 76ms/step - loss: 3.9960 - accuracy: 0.2888\n",
      "Epoch 7/30\n",
      "149/149 [==============================] - 12s 78ms/step - loss: 3.6762 - accuracy: 0.3197\n",
      "Epoch 8/30\n",
      "149/149 [==============================] - 11s 75ms/step - loss: 3.3523 - accuracy: 0.3658\n",
      "Epoch 9/30\n",
      "149/149 [==============================] - 12s 81ms/step - loss: 3.0243 - accuracy: 0.4086\n",
      "Epoch 10/30\n",
      "149/149 [==============================] - 11s 73ms/step - loss: 2.6988 - accuracy: 0.4575\n",
      "Epoch 11/30\n",
      "149/149 [==============================] - 11s 77ms/step - loss: 2.3713 - accuracy: 0.5109\n",
      "Epoch 12/30\n",
      "149/149 [==============================] - 12s 78ms/step - loss: 2.0695 - accuracy: 0.5640\n",
      "Epoch 13/30\n",
      "149/149 [==============================] - 12s 82ms/step - loss: 1.7854 - accuracy: 0.6203\n",
      "Epoch 14/30\n",
      "149/149 [==============================] - 12s 79ms/step - loss: 1.5362 - accuracy: 0.6710\n",
      "Epoch 15/30\n",
      "149/149 [==============================] - 12s 80ms/step - loss: 1.3201 - accuracy: 0.7175\n",
      "Epoch 16/30\n",
      "149/149 [==============================] - 11s 73ms/step - loss: 1.1216 - accuracy: 0.7645\n",
      "Epoch 17/30\n",
      "149/149 [==============================] - 11s 73ms/step - loss: 0.9472 - accuracy: 0.8049\n",
      "Epoch 18/30\n",
      "149/149 [==============================] - 11s 73ms/step - loss: 0.8093 - accuracy: 0.8421\n",
      "Epoch 19/30\n",
      "149/149 [==============================] - 11s 73ms/step - loss: 0.6810 - accuracy: 0.8747\n",
      "Epoch 20/30\n",
      "149/149 [==============================] - 11s 77ms/step - loss: 0.5926 - accuracy: 0.8958\n",
      "Epoch 21/30\n",
      "149/149 [==============================] - 12s 81ms/step - loss: 0.5023 - accuracy: 0.9162\n",
      "Epoch 22/30\n",
      "149/149 [==============================] - 11s 76ms/step - loss: 0.4265 - accuracy: 0.9320\n",
      "Epoch 23/30\n",
      "149/149 [==============================] - 12s 78ms/step - loss: 0.3797 - accuracy: 0.9383\n",
      "Epoch 24/30\n",
      "149/149 [==============================] - 11s 73ms/step - loss: 0.3202 - accuracy: 0.9506\n",
      "Epoch 25/30\n",
      "149/149 [==============================] - 11s 74ms/step - loss: 0.2887 - accuracy: 0.9556\n",
      "Epoch 26/30\n",
      "149/149 [==============================] - 11s 74ms/step - loss: 0.2504 - accuracy: 0.9633\n",
      "Epoch 27/30\n",
      "149/149 [==============================] - 11s 72ms/step - loss: 0.2196 - accuracy: 0.9681\n",
      "Epoch 28/30\n",
      "149/149 [==============================] - 11s 74ms/step - loss: 0.1946 - accuracy: 0.9702\n",
      "Epoch 29/30\n",
      "149/149 [==============================] - 11s 73ms/step - loss: 0.1831 - accuracy: 0.9713\n",
      "Epoch 30/30\n",
      "149/149 [==============================] - 11s 72ms/step - loss: 0.1767 - accuracy: 0.9704\n"
     ]
    },
    {
     "name": "stderr",
     "output_type": "stream",
     "text": [
      "WARNING:absl:`lr` is deprecated in Keras optimizer, please use `learning_rate` or use the legacy optimizer, e.g.,tf.keras.optimizers.legacy.RMSprop.\n"
     ]
    },
    {
     "name": "stdout",
     "output_type": "stream",
     "text": [
      "Epoch 1/30\n"
     ]
    },
    {
     "ename": "TypeError",
     "evalue": "in user code:\n\n    File \"c:\\Users\\RohanRVC\\Documents\\Business\\E-books\\E_Books_Unknown_AI\\Book\\Lib\\site-packages\\keras\\src\\engine\\training.py\", line 1338, in train_function  *\n        return step_function(self, iterator)\n    File \"c:\\Users\\RohanRVC\\Documents\\Business\\E-books\\E_Books_Unknown_AI\\Book\\Lib\\site-packages\\keras\\src\\engine\\training.py\", line 1322, in step_function  **\n        outputs = model.distribute_strategy.run(run_step, args=(data,))\n    File \"c:\\Users\\RohanRVC\\Documents\\Business\\E-books\\E_Books_Unknown_AI\\Book\\Lib\\site-packages\\keras\\src\\engine\\training.py\", line 1303, in run_step  **\n        outputs = model.train_step(data)\n    File \"c:\\Users\\RohanRVC\\Documents\\Business\\E-books\\E_Books_Unknown_AI\\Book\\Lib\\site-packages\\keras\\src\\engine\\training.py\", line 1081, in train_step\n        loss = self.compute_loss(x, y, y_pred, sample_weight)\n    File \"c:\\Users\\RohanRVC\\Documents\\Business\\E-books\\E_Books_Unknown_AI\\Book\\Lib\\site-packages\\keras\\src\\engine\\training.py\", line 1139, in compute_loss\n        return self.compiled_loss(\n    File \"c:\\Users\\RohanRVC\\Documents\\Business\\E-books\\E_Books_Unknown_AI\\Book\\Lib\\site-packages\\keras\\src\\engine\\compile_utils.py\", line 265, in __call__\n        loss_value = loss_obj(y_t, y_p, sample_weight=sw)\n    File \"c:\\Users\\RohanRVC\\Documents\\Business\\E-books\\E_Books_Unknown_AI\\Book\\Lib\\site-packages\\keras\\src\\losses.py\", line 142, in __call__\n        losses = call_fn(y_true, y_pred)\n    File \"c:\\Users\\RohanRVC\\Documents\\Business\\E-books\\E_Books_Unknown_AI\\Book\\Lib\\site-packages\\keras\\src\\losses.py\", line 268, in call  **\n        return ag_fn(y_true, y_pred, **self._fn_kwargs)\n    File \"c:\\Users\\RohanRVC\\Documents\\Business\\E-books\\E_Books_Unknown_AI\\Book\\Lib\\site-packages\\keras\\src\\losses.py\", line 2100, in categorical_crossentropy\n        label_smoothing = tf.convert_to_tensor(label_smoothing, dtype=y_pred.dtype)\n\n    TypeError: Expected bool, but got 0.0 of type 'float'.\n",
     "output_type": "error",
     "traceback": [
      "\u001b[1;31m---------------------------------------------------------------------------\u001b[0m",
      "\u001b[1;31mTypeError\u001b[0m                                 Traceback (most recent call last)",
      "\u001b[1;32mc:\\Users\\RohanRVC\\Documents\\Business\\E-books\\E_Books_Unknown_AI\\03.4_text_generation.ipynb Cell 39\u001b[0m line \u001b[0;36m2\n\u001b[0;32m     <a href='vscode-notebook-cell:/c%3A/Users/RohanRVC/Documents/Business/E-books/E_Books_Unknown_AI/03.4_text_generation.ipynb#X54sZmlsZQ%3D%3D?line=24'>25</a>\u001b[0m     y[i, updated_unique_token_index[next_words[i]]] \u001b[39m=\u001b[39m \u001b[39m1\u001b[39m\n\u001b[0;32m     <a href='vscode-notebook-cell:/c%3A/Users/RohanRVC/Documents/Business/E-books/E_Books_Unknown_AI/03.4_text_generation.ipynb#X54sZmlsZQ%3D%3D?line=26'>27</a>\u001b[0m \u001b[39m# Train the model on the current chunk\u001b[39;00m\n\u001b[1;32m---> <a href='vscode-notebook-cell:/c%3A/Users/RohanRVC/Documents/Business/E-books/E_Books_Unknown_AI/03.4_text_generation.ipynb#X54sZmlsZQ%3D%3D?line=27'>28</a>\u001b[0m model\u001b[39m.\u001b[39;49mfit(X, y, batch_size\u001b[39m=\u001b[39;49m\u001b[39m128\u001b[39;49m, epochs\u001b[39m=\u001b[39;49m\u001b[39m30\u001b[39;49m, shuffle\u001b[39m=\u001b[39;49m\u001b[39mTrue\u001b[39;49;00m)\n",
      "File \u001b[1;32mc:\\Users\\RohanRVC\\Documents\\Business\\E-books\\E_Books_Unknown_AI\\Book\\Lib\\site-packages\\keras\\src\\utils\\traceback_utils.py:70\u001b[0m, in \u001b[0;36mfilter_traceback.<locals>.error_handler\u001b[1;34m(*args, **kwargs)\u001b[0m\n\u001b[0;32m     67\u001b[0m     filtered_tb \u001b[39m=\u001b[39m _process_traceback_frames(e\u001b[39m.\u001b[39m__traceback__)\n\u001b[0;32m     68\u001b[0m     \u001b[39m# To get the full stack trace, call:\u001b[39;00m\n\u001b[0;32m     69\u001b[0m     \u001b[39m# `tf.debugging.disable_traceback_filtering()`\u001b[39;00m\n\u001b[1;32m---> 70\u001b[0m     \u001b[39mraise\u001b[39;00m e\u001b[39m.\u001b[39mwith_traceback(filtered_tb) \u001b[39mfrom\u001b[39;00m \u001b[39mNone\u001b[39;00m\n\u001b[0;32m     71\u001b[0m \u001b[39mfinally\u001b[39;00m:\n\u001b[0;32m     72\u001b[0m     \u001b[39mdel\u001b[39;00m filtered_tb\n",
      "File \u001b[1;32m~\\AppData\\Local\\Temp\\__autograph_generated_file6j6y16ew.py:15\u001b[0m, in \u001b[0;36mouter_factory.<locals>.inner_factory.<locals>.tf__train_function\u001b[1;34m(iterator)\u001b[0m\n\u001b[0;32m     13\u001b[0m \u001b[39mtry\u001b[39;00m:\n\u001b[0;32m     14\u001b[0m     do_return \u001b[39m=\u001b[39m \u001b[39mTrue\u001b[39;00m\n\u001b[1;32m---> 15\u001b[0m     retval_ \u001b[39m=\u001b[39m ag__\u001b[39m.\u001b[39mconverted_call(ag__\u001b[39m.\u001b[39mld(step_function), (ag__\u001b[39m.\u001b[39mld(\u001b[39mself\u001b[39m), ag__\u001b[39m.\u001b[39mld(iterator)), \u001b[39mNone\u001b[39;00m, fscope)\n\u001b[0;32m     16\u001b[0m \u001b[39mexcept\u001b[39;00m:\n\u001b[0;32m     17\u001b[0m     do_return \u001b[39m=\u001b[39m \u001b[39mFalse\u001b[39;00m\n",
      "\u001b[1;31mTypeError\u001b[0m: in user code:\n\n    File \"c:\\Users\\RohanRVC\\Documents\\Business\\E-books\\E_Books_Unknown_AI\\Book\\Lib\\site-packages\\keras\\src\\engine\\training.py\", line 1338, in train_function  *\n        return step_function(self, iterator)\n    File \"c:\\Users\\RohanRVC\\Documents\\Business\\E-books\\E_Books_Unknown_AI\\Book\\Lib\\site-packages\\keras\\src\\engine\\training.py\", line 1322, in step_function  **\n        outputs = model.distribute_strategy.run(run_step, args=(data,))\n    File \"c:\\Users\\RohanRVC\\Documents\\Business\\E-books\\E_Books_Unknown_AI\\Book\\Lib\\site-packages\\keras\\src\\engine\\training.py\", line 1303, in run_step  **\n        outputs = model.train_step(data)\n    File \"c:\\Users\\RohanRVC\\Documents\\Business\\E-books\\E_Books_Unknown_AI\\Book\\Lib\\site-packages\\keras\\src\\engine\\training.py\", line 1081, in train_step\n        loss = self.compute_loss(x, y, y_pred, sample_weight)\n    File \"c:\\Users\\RohanRVC\\Documents\\Business\\E-books\\E_Books_Unknown_AI\\Book\\Lib\\site-packages\\keras\\src\\engine\\training.py\", line 1139, in compute_loss\n        return self.compiled_loss(\n    File \"c:\\Users\\RohanRVC\\Documents\\Business\\E-books\\E_Books_Unknown_AI\\Book\\Lib\\site-packages\\keras\\src\\engine\\compile_utils.py\", line 265, in __call__\n        loss_value = loss_obj(y_t, y_p, sample_weight=sw)\n    File \"c:\\Users\\RohanRVC\\Documents\\Business\\E-books\\E_Books_Unknown_AI\\Book\\Lib\\site-packages\\keras\\src\\losses.py\", line 142, in __call__\n        losses = call_fn(y_true, y_pred)\n    File \"c:\\Users\\RohanRVC\\Documents\\Business\\E-books\\E_Books_Unknown_AI\\Book\\Lib\\site-packages\\keras\\src\\losses.py\", line 268, in call  **\n        return ag_fn(y_true, y_pred, **self._fn_kwargs)\n    File \"c:\\Users\\RohanRVC\\Documents\\Business\\E-books\\E_Books_Unknown_AI\\Book\\Lib\\site-packages\\keras\\src\\losses.py\", line 2100, in categorical_crossentropy\n        label_smoothing = tf.convert_to_tensor(label_smoothing, dtype=y_pred.dtype)\n\n    TypeError: Expected bool, but got 0.0 of type 'float'.\n"
     ]
    }
   ],
   "source": [
    "# for i in range(0, len(joined_text), chunk_size):\n",
    "#     partial_text = joined_text[i:i + chunk_size]\n",
    "#     tokens = tokenizer.tokenize(partial_text.lower())\n",
    "\n",
    "#     # Update unique tokens and indices\n",
    "#     unique_token = np.unique(tokens)\n",
    "#     combined_tokens = set(unique_tokens).union(set(unique_token))\n",
    "#     updated_unique_tokens = np.array(list(combined_tokens))\n",
    "#     updated_unique_token_index = {token: idx for idx, token in enumerate(updated_unique_tokens)}\n",
    "\n",
    "#     # Check if vocabulary size has changed\n",
    "#     if len(updated_unique_tokens) != model.input_shape[-1]:\n",
    "#         # Rebuild and compile the model with the new vocabulary size\n",
    "#         model = Sequential()  # Add model layers here\n",
    "#         # Compile the model\n",
    "#         model.compile(loss='categorical_crossentropy', optimizer=RMSprop(lr=0.01), metrics=['accuracy'])\n",
    "\n",
    "#     # Prepare data for model training\n",
    "#     X = np.zeros((len(input_words), n_words, len(updated_unique_tokens)), dtype=bool)\n",
    "#     y = np.zeros((len(next_words), len(updated_unique_tokens)), dtype=bool)\n",
    "\n",
    "#     for i, words in enumerate(input_words):\n",
    "#         for j, word in enumerate(words):\n",
    "#             X[i, j, updated_unique_token_index[word]] = 1\n",
    "#         y[i, updated_unique_token_index[next_words[i]]] = 1\n",
    "\n",
    "#     # Train the model on the current chunk\n",
    "#     model.fit(X, y, batch_size=128, epochs=30, shuffle=True)\n"
   ]
  },
  {
   "cell_type": "code",
   "execution_count": null,
   "metadata": {},
   "outputs": [],
   "source": [
    "model.save(\"C:/Users/RohanRVC/Documents/Business/E-books/E_Books_Unknown_AI/text_generation/Model/model_stage_2/mymodel.h5\")\n"
   ]
  },
  {
   "cell_type": "code",
   "execution_count": 241,
   "metadata": {},
   "outputs": [
    {
     "data": {
      "text/plain": [
       "6048"
      ]
     },
     "execution_count": 241,
     "metadata": {},
     "output_type": "execute_result"
    }
   ],
   "source": [
    "# with open('C:/Users/RohanRVC/Documents/Business/E-books/E_Books_Unknown_AI/text_generation/Model/model_stage_1/unique_token_index.pkl', 'wb') as f:\n",
    "#         pickle.dump(updated_unique_tokens, f)\n",
    "\n",
    "# with open('C:/Users/RohanRVC/Documents/Business/E-books/E_Books_Unknown_AI/text_generation/Model/model_stage_1/unique_token_index.pkl', 'wb') as f:\n",
    "#         pickle.dump(updated_unique_token_index, f)\n",
    "\n",
    "# for i in range(0, len(joined_text), chunk_size):\n",
    "#     partial_text = joined_text[i:i + chunk_size]\n",
    "#     tokens = tokenizer.tokenize(partial_text.lower())\n",
    "\n",
    "#     # Update unique tokens and their indices\n",
    "#     unique_token = np.unique(tokens)\n",
    "#     combined_tokens = set(unique_tokens).union(set(unique_token))\n",
    "#     updated_unique_tokens = np.array(list(combined_tokens))\n",
    "#     updated_unique_token_index = {token: idx for idx, token in enumerate(updated_unique_tokens)}\n",
    "\n",
    "\n",
    "#     # Prepare data for model training\n",
    "#     input_words = []\n",
    "#     next_words = []\n",
    "#     for i in range(len(tokens) - n_words):\n",
    "#         input_words.append(tokens[i:i + n_words])\n",
    "#         next_words.append(tokens[i + n_words])\n",
    "\n",
    "#     X = np.zeros((len(input_words), n_words, len(updated_unique_tokens)), dtype=bool)\n",
    "#     y = np.zeros((len(next_words), len(updated_unique_tokens)), dtype=bool)\n",
    "\n",
    "#     for i, each_sequence in enumerate(input_words):\n",
    "#         for j, word in enumerate(each_sequence):\n",
    "#             X[i, j, updated_unique_token_index[word]] = 1\n",
    "#         y[i, updated_unique_token_index[next_words[i]]] = 1\n",
    "\n",
    "#     # Define and compile a new model with the updated vocabulary size\n",
    "#     model = Sequential()\n",
    "#     model.add(LSTM(128, input_shape=(n_words, len(updated_unique_tokens)), return_sequences=True))\n",
    "#     model.add(LSTM(128))\n",
    "#     model.add(Dense(len(updated_unique_tokens)))\n",
    "#     model.add(Activation('softmax'))\n",
    "#     model.compile(loss='categorical_crossentropy', optimizer=RMSprop(learning_rate=0.01), metrics=['accuracy'])\n",
    "\n",
    "#     # Fine-tune the model on this chunk\n",
    "#     model.fit(X, y, batch_size=128, epochs=30, shuffle=True)\n",
    "\n",
    "# # Save the fine-tuned model\n",
    "# model.save(\"C:/Users/RohanRVC/Documents/Business/E-books/E_Books_Unknown_AI/text_generation/Model/model_stage_1/mymodel.h5\")"
   ]
  },
  {
   "cell_type": "code",
   "execution_count": null,
   "metadata": {},
   "outputs": [],
   "source": [
    "\n",
    "\n",
    "\n"
   ]
  },
  {
   "cell_type": "code",
   "execution_count": null,
   "metadata": {},
   "outputs": [],
   "source": []
  },
  {
   "cell_type": "code",
   "execution_count": null,
   "metadata": {},
   "outputs": [],
   "source": []
  },
  {
   "cell_type": "code",
   "execution_count": 33,
   "metadata": {},
   "outputs": [],
   "source": [
    "import numpy as np\n",
    "from nltk.tokenize import RegexpTokenizer\n",
    "\n",
    "def generate_batches(text, chunk_size, n_words, unique_token_index):\n",
    "    tokenizer = RegexpTokenizer(r'\\w+')\n",
    "    total_length = len(text)\n",
    "\n",
    "    for i in range(0, total_length, chunk_size):\n",
    "        partial_text = text[i:i + chunk_size]\n",
    "        tokens = tokenizer.tokenize(partial_text.lower())\n",
    "        input_words = []\n",
    "        next_words = []\n",
    "\n",
    "        for j in range(len(tokens) - n_words):\n",
    "            input_words.append(tokens[j:j + n_words])\n",
    "            next_words.append(tokens[j + n_words])\n",
    "\n",
    "        X = np.zeros((len(input_words), n_words, len(unique_token_index)), dtype=bool)\n",
    "        y = np.zeros((len(input_words), len(unique_token_index)), dtype=bool)\n",
    "\n",
    "        for j, each_sequence in enumerate(input_words):\n",
    "            for k, word in enumerate(each_sequence):\n",
    "                if word in unique_token_index:\n",
    "                    X[j, k, unique_token_index[word]] = 1\n",
    "            if next_words[j] in unique_token_index:\n",
    "                y[j, unique_token_index[next_words[j]]] = 1\n",
    "\n",
    "        yield X, y\n"
   ]
  },
  {
   "cell_type": "code",
   "execution_count": 34,
   "metadata": {},
   "outputs": [],
   "source": [
    "# Load unique tokens and indices\n",
    "with open('C:/Users/RohanRVC/Documents/Business/E-books/E_Books_Unknown_AI/text_generation/Model/model_stage_1/unique_tokens.pkl', 'rb') as f:\n",
    "    unique_tokens = pickle.load(f)\n",
    "\n",
    "with open('C:/Users/RohanRVC/Documents/Business/E-books/E_Books_Unknown_AI/text_generation/Model/model_stage_1/unique_token_index.pkl', 'rb') as f:\n",
    "    unique_token_index = pickle.load(f)\n"
   ]
  },
  {
   "cell_type": "code",
   "execution_count": 36,
   "metadata": {},
   "outputs": [
    {
     "name": "stdout",
     "output_type": "stream",
     "text": [
      "Epoch 1/30\n"
     ]
    },
    {
     "ename": "InvalidArgumentError",
     "evalue": "Graph execution error:\n\nDetected at node 'while/MatMul' defined at (most recent call last):\n    File \"<frozen runpy>\", line 198, in _run_module_as_main\n    File \"<frozen runpy>\", line 88, in _run_code\n    File \"c:\\Users\\RohanRVC\\Documents\\Business\\E-books\\E_Books_Unknown_AI\\Book\\Lib\\site-packages\\ipykernel_launcher.py\", line 17, in <module>\n      app.launch_new_instance()\n    File \"c:\\Users\\RohanRVC\\Documents\\Business\\E-books\\E_Books_Unknown_AI\\Book\\Lib\\site-packages\\traitlets\\config\\application.py\", line 1046, in launch_instance\n      app.start()\n    File \"c:\\Users\\RohanRVC\\Documents\\Business\\E-books\\E_Books_Unknown_AI\\Book\\Lib\\site-packages\\ipykernel\\kernelapp.py\", line 736, in start\n      self.io_loop.start()\n    File \"c:\\Users\\RohanRVC\\Documents\\Business\\E-books\\E_Books_Unknown_AI\\Book\\Lib\\site-packages\\tornado\\platform\\asyncio.py\", line 195, in start\n      self.asyncio_loop.run_forever()\n    File \"C:\\Users\\RohanRVC\\AppData\\Local\\Programs\\Python\\Python311\\Lib\\asyncio\\base_events.py\", line 607, in run_forever\n      self._run_once()\n    File \"C:\\Users\\RohanRVC\\AppData\\Local\\Programs\\Python\\Python311\\Lib\\asyncio\\base_events.py\", line 1919, in _run_once\n      handle._run()\n    File \"C:\\Users\\RohanRVC\\AppData\\Local\\Programs\\Python\\Python311\\Lib\\asyncio\\events.py\", line 80, in _run\n      self._context.run(self._callback, *self._args)\n    File \"c:\\Users\\RohanRVC\\Documents\\Business\\E-books\\E_Books_Unknown_AI\\Book\\Lib\\site-packages\\ipykernel\\kernelbase.py\", line 516, in dispatch_queue\n      await self.process_one()\n    File \"c:\\Users\\RohanRVC\\Documents\\Business\\E-books\\E_Books_Unknown_AI\\Book\\Lib\\site-packages\\ipykernel\\kernelbase.py\", line 505, in process_one\n      await dispatch(*args)\n    File \"c:\\Users\\RohanRVC\\Documents\\Business\\E-books\\E_Books_Unknown_AI\\Book\\Lib\\site-packages\\ipykernel\\kernelbase.py\", line 412, in dispatch_shell\n      await result\n    File \"c:\\Users\\RohanRVC\\Documents\\Business\\E-books\\E_Books_Unknown_AI\\Book\\Lib\\site-packages\\ipykernel\\kernelbase.py\", line 740, in execute_request\n      reply_content = await reply_content\n    File \"c:\\Users\\RohanRVC\\Documents\\Business\\E-books\\E_Books_Unknown_AI\\Book\\Lib\\site-packages\\ipykernel\\ipkernel.py\", line 422, in do_execute\n      res = shell.run_cell(\n    File \"c:\\Users\\RohanRVC\\Documents\\Business\\E-books\\E_Books_Unknown_AI\\Book\\Lib\\site-packages\\ipykernel\\zmqshell.py\", line 546, in run_cell\n      return super().run_cell(*args, **kwargs)\n    File \"c:\\Users\\RohanRVC\\Documents\\Business\\E-books\\E_Books_Unknown_AI\\Book\\Lib\\site-packages\\IPython\\core\\interactiveshell.py\", line 3024, in run_cell\n      result = self._run_cell(\n    File \"c:\\Users\\RohanRVC\\Documents\\Business\\E-books\\E_Books_Unknown_AI\\Book\\Lib\\site-packages\\IPython\\core\\interactiveshell.py\", line 3079, in _run_cell\n      result = runner(coro)\n    File \"c:\\Users\\RohanRVC\\Documents\\Business\\E-books\\E_Books_Unknown_AI\\Book\\Lib\\site-packages\\IPython\\core\\async_helpers.py\", line 129, in _pseudo_sync_runner\n      coro.send(None)\n    File \"c:\\Users\\RohanRVC\\Documents\\Business\\E-books\\E_Books_Unknown_AI\\Book\\Lib\\site-packages\\IPython\\core\\interactiveshell.py\", line 3284, in run_cell_async\n      has_raised = await self.run_ast_nodes(code_ast.body, cell_name,\n    File \"c:\\Users\\RohanRVC\\Documents\\Business\\E-books\\E_Books_Unknown_AI\\Book\\Lib\\site-packages\\IPython\\core\\interactiveshell.py\", line 3466, in run_ast_nodes\n      if await self.run_code(code, result, async_=asy):\n    File \"c:\\Users\\RohanRVC\\Documents\\Business\\E-books\\E_Books_Unknown_AI\\Book\\Lib\\site-packages\\IPython\\core\\interactiveshell.py\", line 3526, in run_code\n      exec(code_obj, self.user_global_ns, self.user_ns)\n    File \"C:\\Users\\RohanRVC\\AppData\\Local\\Temp\\ipykernel_52588\\787003761.py\", line 9, in <module>\n      model.fit(generate_batches(joined_text, chunk_size, n_words, unique_token_index),\n    File \"c:\\Users\\RohanRVC\\Documents\\Business\\E-books\\E_Books_Unknown_AI\\Book\\Lib\\site-packages\\keras\\src\\utils\\traceback_utils.py\", line 65, in error_handler\n      return fn(*args, **kwargs)\n    File \"c:\\Users\\RohanRVC\\Documents\\Business\\E-books\\E_Books_Unknown_AI\\Book\\Lib\\site-packages\\keras\\src\\engine\\training.py\", line 1742, in fit\n      tmp_logs = self.train_function(iterator)\n    File \"c:\\Users\\RohanRVC\\Documents\\Business\\E-books\\E_Books_Unknown_AI\\Book\\Lib\\site-packages\\keras\\src\\engine\\training.py\", line 1338, in train_function\n      return step_function(self, iterator)\n    File \"c:\\Users\\RohanRVC\\Documents\\Business\\E-books\\E_Books_Unknown_AI\\Book\\Lib\\site-packages\\keras\\src\\engine\\training.py\", line 1322, in step_function\n      outputs = model.distribute_strategy.run(run_step, args=(data,))\n    File \"c:\\Users\\RohanRVC\\Documents\\Business\\E-books\\E_Books_Unknown_AI\\Book\\Lib\\site-packages\\keras\\src\\engine\\training.py\", line 1303, in run_step\n      outputs = model.train_step(data)\n    File \"c:\\Users\\RohanRVC\\Documents\\Business\\E-books\\E_Books_Unknown_AI\\Book\\Lib\\site-packages\\keras\\src\\engine\\training.py\", line 1080, in train_step\n      y_pred = self(x, training=True)\n    File \"c:\\Users\\RohanRVC\\Documents\\Business\\E-books\\E_Books_Unknown_AI\\Book\\Lib\\site-packages\\keras\\src\\utils\\traceback_utils.py\", line 65, in error_handler\n      return fn(*args, **kwargs)\n    File \"c:\\Users\\RohanRVC\\Documents\\Business\\E-books\\E_Books_Unknown_AI\\Book\\Lib\\site-packages\\keras\\src\\engine\\training.py\", line 569, in __call__\n      return super().__call__(*args, **kwargs)\n    File \"c:\\Users\\RohanRVC\\Documents\\Business\\E-books\\E_Books_Unknown_AI\\Book\\Lib\\site-packages\\keras\\src\\utils\\traceback_utils.py\", line 65, in error_handler\n      return fn(*args, **kwargs)\n    File \"c:\\Users\\RohanRVC\\Documents\\Business\\E-books\\E_Books_Unknown_AI\\Book\\Lib\\site-packages\\keras\\src\\engine\\base_layer.py\", line 1150, in __call__\n      outputs = call_fn(inputs, *args, **kwargs)\n    File \"c:\\Users\\RohanRVC\\Documents\\Business\\E-books\\E_Books_Unknown_AI\\Book\\Lib\\site-packages\\keras\\src\\utils\\traceback_utils.py\", line 96, in error_handler\n      return fn(*args, **kwargs)\n    File \"c:\\Users\\RohanRVC\\Documents\\Business\\E-books\\E_Books_Unknown_AI\\Book\\Lib\\site-packages\\keras\\src\\engine\\sequential.py\", line 405, in call\n      return super().call(inputs, training=training, mask=mask)\n    File \"c:\\Users\\RohanRVC\\Documents\\Business\\E-books\\E_Books_Unknown_AI\\Book\\Lib\\site-packages\\keras\\src\\engine\\functional.py\", line 512, in call\n      return self._run_internal_graph(inputs, training=training, mask=mask)\n    File \"c:\\Users\\RohanRVC\\Documents\\Business\\E-books\\E_Books_Unknown_AI\\Book\\Lib\\site-packages\\keras\\src\\engine\\functional.py\", line 669, in _run_internal_graph\n      outputs = node.layer(*args, **kwargs)\n    File \"c:\\Users\\RohanRVC\\Documents\\Business\\E-books\\E_Books_Unknown_AI\\Book\\Lib\\site-packages\\keras\\src\\layers\\rnn\\base_rnn.py\", line 556, in __call__\n      return super().__call__(inputs, **kwargs)\n    File \"c:\\Users\\RohanRVC\\Documents\\Business\\E-books\\E_Books_Unknown_AI\\Book\\Lib\\site-packages\\keras\\src\\utils\\traceback_utils.py\", line 65, in error_handler\n      return fn(*args, **kwargs)\n    File \"c:\\Users\\RohanRVC\\Documents\\Business\\E-books\\E_Books_Unknown_AI\\Book\\Lib\\site-packages\\keras\\src\\engine\\base_layer.py\", line 1150, in __call__\n      outputs = call_fn(inputs, *args, **kwargs)\n    File \"c:\\Users\\RohanRVC\\Documents\\Business\\E-books\\E_Books_Unknown_AI\\Book\\Lib\\site-packages\\keras\\src\\utils\\traceback_utils.py\", line 96, in error_handler\n      return fn(*args, **kwargs)\n    File \"c:\\Users\\RohanRVC\\Documents\\Business\\E-books\\E_Books_Unknown_AI\\Book\\Lib\\site-packages\\keras\\src\\layers\\rnn\\lstm.py\", line 749, in call\n      ) = lstm_with_backend_selection(**normal_lstm_kwargs)\n    File \"c:\\Users\\RohanRVC\\Documents\\Business\\E-books\\E_Books_Unknown_AI\\Book\\Lib\\site-packages\\keras\\src\\layers\\rnn\\lstm.py\", line 1339, in lstm_with_backend_selection\n      last_output, outputs, new_h, new_c, runtime = defun_standard_lstm(\n    File \"c:\\Users\\RohanRVC\\Documents\\Business\\E-books\\E_Books_Unknown_AI\\Book\\Lib\\site-packages\\keras\\src\\layers\\rnn\\lstm.py\", line 981, in standard_lstm\n      last_output, outputs, new_states = backend.rnn(\n    File \"c:\\Users\\RohanRVC\\Documents\\Business\\E-books\\E_Books_Unknown_AI\\Book\\Lib\\site-packages\\keras\\src\\backend.py\", line 5170, in rnn\n      final_outputs = tf.compat.v1.while_loop(\n    File \"c:\\Users\\RohanRVC\\Documents\\Business\\E-books\\E_Books_Unknown_AI\\Book\\Lib\\site-packages\\keras\\src\\backend.py\", line 5149, in _step\n      output, new_states = step_function(\n    File \"c:\\Users\\RohanRVC\\Documents\\Business\\E-books\\E_Books_Unknown_AI\\Book\\Lib\\site-packages\\keras\\src\\layers\\rnn\\lstm.py\", line 967, in step\n      z = backend.dot(cell_inputs, kernel)\n    File \"c:\\Users\\RohanRVC\\Documents\\Business\\E-books\\E_Books_Unknown_AI\\Book\\Lib\\site-packages\\keras\\src\\backend.py\", line 2465, in dot\n      out = tf.matmul(x, y)\nNode: 'while/MatMul'\nMatrix size-incompatible: In[0]: [19064,1651], In[1]: [2299,512]\n\t [[{{node while/MatMul}}]]\n\t [[sequential/lstm/PartitionedCall]] [Op:__inference_train_function_29396]",
     "output_type": "error",
     "traceback": [
      "\u001b[1;31m---------------------------------------------------------------------------\u001b[0m",
      "\u001b[1;31mInvalidArgumentError\u001b[0m                      Traceback (most recent call last)",
      "\u001b[1;32mc:\\Users\\RohanRVC\\Documents\\Business\\E-books\\E_Books_Unknown_AI\\03.4_text_generation.ipynb Cell 44\u001b[0m line \u001b[0;36m9\n\u001b[0;32m      <a href='vscode-notebook-cell:/c%3A/Users/RohanRVC/Documents/Business/E-books/E_Books_Unknown_AI/03.4_text_generation.ipynb#Y100sZmlsZQ%3D%3D?line=5'>6</a>\u001b[0m steps_per_epoch \u001b[39m=\u001b[39m (\u001b[39mlen\u001b[39m(joined_text) \u001b[39m/\u001b[39m\u001b[39m/\u001b[39m chunk_size) \u001b[39m*\u001b[39m (chunk_size \u001b[39m/\u001b[39m\u001b[39m/\u001b[39m (n_words \u001b[39m+\u001b[39m \u001b[39m1\u001b[39m))\n\u001b[0;32m      <a href='vscode-notebook-cell:/c%3A/Users/RohanRVC/Documents/Business/E-books/E_Books_Unknown_AI/03.4_text_generation.ipynb#Y100sZmlsZQ%3D%3D?line=7'>8</a>\u001b[0m \u001b[39m# Train the model using the generator\u001b[39;00m\n\u001b[1;32m----> <a href='vscode-notebook-cell:/c%3A/Users/RohanRVC/Documents/Business/E-books/E_Books_Unknown_AI/03.4_text_generation.ipynb#Y100sZmlsZQ%3D%3D?line=8'>9</a>\u001b[0m model\u001b[39m.\u001b[39;49mfit(generate_batches(joined_text, chunk_size, n_words, unique_token_index),\n\u001b[0;32m     <a href='vscode-notebook-cell:/c%3A/Users/RohanRVC/Documents/Business/E-books/E_Books_Unknown_AI/03.4_text_generation.ipynb#Y100sZmlsZQ%3D%3D?line=9'>10</a>\u001b[0m           steps_per_epoch\u001b[39m=\u001b[39;49msteps_per_epoch,\n\u001b[0;32m     <a href='vscode-notebook-cell:/c%3A/Users/RohanRVC/Documents/Business/E-books/E_Books_Unknown_AI/03.4_text_generation.ipynb#Y100sZmlsZQ%3D%3D?line=10'>11</a>\u001b[0m           epochs\u001b[39m=\u001b[39;49m\u001b[39m30\u001b[39;49m)\n",
      "File \u001b[1;32mc:\\Users\\RohanRVC\\Documents\\Business\\E-books\\E_Books_Unknown_AI\\Book\\Lib\\site-packages\\keras\\src\\utils\\traceback_utils.py:70\u001b[0m, in \u001b[0;36mfilter_traceback.<locals>.error_handler\u001b[1;34m(*args, **kwargs)\u001b[0m\n\u001b[0;32m     67\u001b[0m     filtered_tb \u001b[39m=\u001b[39m _process_traceback_frames(e\u001b[39m.\u001b[39m__traceback__)\n\u001b[0;32m     68\u001b[0m     \u001b[39m# To get the full stack trace, call:\u001b[39;00m\n\u001b[0;32m     69\u001b[0m     \u001b[39m# `tf.debugging.disable_traceback_filtering()`\u001b[39;00m\n\u001b[1;32m---> 70\u001b[0m     \u001b[39mraise\u001b[39;00m e\u001b[39m.\u001b[39mwith_traceback(filtered_tb) \u001b[39mfrom\u001b[39;00m \u001b[39mNone\u001b[39;00m\n\u001b[0;32m     71\u001b[0m \u001b[39mfinally\u001b[39;00m:\n\u001b[0;32m     72\u001b[0m     \u001b[39mdel\u001b[39;00m filtered_tb\n",
      "File \u001b[1;32mc:\\Users\\RohanRVC\\Documents\\Business\\E-books\\E_Books_Unknown_AI\\Book\\Lib\\site-packages\\tensorflow\\python\\eager\\execute.py:53\u001b[0m, in \u001b[0;36mquick_execute\u001b[1;34m(op_name, num_outputs, inputs, attrs, ctx, name)\u001b[0m\n\u001b[0;32m     51\u001b[0m \u001b[39mtry\u001b[39;00m:\n\u001b[0;32m     52\u001b[0m   ctx\u001b[39m.\u001b[39mensure_initialized()\n\u001b[1;32m---> 53\u001b[0m   tensors \u001b[39m=\u001b[39m pywrap_tfe\u001b[39m.\u001b[39mTFE_Py_Execute(ctx\u001b[39m.\u001b[39m_handle, device_name, op_name,\n\u001b[0;32m     54\u001b[0m                                       inputs, attrs, num_outputs)\n\u001b[0;32m     55\u001b[0m \u001b[39mexcept\u001b[39;00m core\u001b[39m.\u001b[39m_NotOkStatusException \u001b[39mas\u001b[39;00m e:\n\u001b[0;32m     56\u001b[0m   \u001b[39mif\u001b[39;00m name \u001b[39mis\u001b[39;00m \u001b[39mnot\u001b[39;00m \u001b[39mNone\u001b[39;00m:\n",
      "\u001b[1;31mInvalidArgumentError\u001b[0m: Graph execution error:\n\nDetected at node 'while/MatMul' defined at (most recent call last):\n    File \"<frozen runpy>\", line 198, in _run_module_as_main\n    File \"<frozen runpy>\", line 88, in _run_code\n    File \"c:\\Users\\RohanRVC\\Documents\\Business\\E-books\\E_Books_Unknown_AI\\Book\\Lib\\site-packages\\ipykernel_launcher.py\", line 17, in <module>\n      app.launch_new_instance()\n    File \"c:\\Users\\RohanRVC\\Documents\\Business\\E-books\\E_Books_Unknown_AI\\Book\\Lib\\site-packages\\traitlets\\config\\application.py\", line 1046, in launch_instance\n      app.start()\n    File \"c:\\Users\\RohanRVC\\Documents\\Business\\E-books\\E_Books_Unknown_AI\\Book\\Lib\\site-packages\\ipykernel\\kernelapp.py\", line 736, in start\n      self.io_loop.start()\n    File \"c:\\Users\\RohanRVC\\Documents\\Business\\E-books\\E_Books_Unknown_AI\\Book\\Lib\\site-packages\\tornado\\platform\\asyncio.py\", line 195, in start\n      self.asyncio_loop.run_forever()\n    File \"C:\\Users\\RohanRVC\\AppData\\Local\\Programs\\Python\\Python311\\Lib\\asyncio\\base_events.py\", line 607, in run_forever\n      self._run_once()\n    File \"C:\\Users\\RohanRVC\\AppData\\Local\\Programs\\Python\\Python311\\Lib\\asyncio\\base_events.py\", line 1919, in _run_once\n      handle._run()\n    File \"C:\\Users\\RohanRVC\\AppData\\Local\\Programs\\Python\\Python311\\Lib\\asyncio\\events.py\", line 80, in _run\n      self._context.run(self._callback, *self._args)\n    File \"c:\\Users\\RohanRVC\\Documents\\Business\\E-books\\E_Books_Unknown_AI\\Book\\Lib\\site-packages\\ipykernel\\kernelbase.py\", line 516, in dispatch_queue\n      await self.process_one()\n    File \"c:\\Users\\RohanRVC\\Documents\\Business\\E-books\\E_Books_Unknown_AI\\Book\\Lib\\site-packages\\ipykernel\\kernelbase.py\", line 505, in process_one\n      await dispatch(*args)\n    File \"c:\\Users\\RohanRVC\\Documents\\Business\\E-books\\E_Books_Unknown_AI\\Book\\Lib\\site-packages\\ipykernel\\kernelbase.py\", line 412, in dispatch_shell\n      await result\n    File \"c:\\Users\\RohanRVC\\Documents\\Business\\E-books\\E_Books_Unknown_AI\\Book\\Lib\\site-packages\\ipykernel\\kernelbase.py\", line 740, in execute_request\n      reply_content = await reply_content\n    File \"c:\\Users\\RohanRVC\\Documents\\Business\\E-books\\E_Books_Unknown_AI\\Book\\Lib\\site-packages\\ipykernel\\ipkernel.py\", line 422, in do_execute\n      res = shell.run_cell(\n    File \"c:\\Users\\RohanRVC\\Documents\\Business\\E-books\\E_Books_Unknown_AI\\Book\\Lib\\site-packages\\ipykernel\\zmqshell.py\", line 546, in run_cell\n      return super().run_cell(*args, **kwargs)\n    File \"c:\\Users\\RohanRVC\\Documents\\Business\\E-books\\E_Books_Unknown_AI\\Book\\Lib\\site-packages\\IPython\\core\\interactiveshell.py\", line 3024, in run_cell\n      result = self._run_cell(\n    File \"c:\\Users\\RohanRVC\\Documents\\Business\\E-books\\E_Books_Unknown_AI\\Book\\Lib\\site-packages\\IPython\\core\\interactiveshell.py\", line 3079, in _run_cell\n      result = runner(coro)\n    File \"c:\\Users\\RohanRVC\\Documents\\Business\\E-books\\E_Books_Unknown_AI\\Book\\Lib\\site-packages\\IPython\\core\\async_helpers.py\", line 129, in _pseudo_sync_runner\n      coro.send(None)\n    File \"c:\\Users\\RohanRVC\\Documents\\Business\\E-books\\E_Books_Unknown_AI\\Book\\Lib\\site-packages\\IPython\\core\\interactiveshell.py\", line 3284, in run_cell_async\n      has_raised = await self.run_ast_nodes(code_ast.body, cell_name,\n    File \"c:\\Users\\RohanRVC\\Documents\\Business\\E-books\\E_Books_Unknown_AI\\Book\\Lib\\site-packages\\IPython\\core\\interactiveshell.py\", line 3466, in run_ast_nodes\n      if await self.run_code(code, result, async_=asy):\n    File \"c:\\Users\\RohanRVC\\Documents\\Business\\E-books\\E_Books_Unknown_AI\\Book\\Lib\\site-packages\\IPython\\core\\interactiveshell.py\", line 3526, in run_code\n      exec(code_obj, self.user_global_ns, self.user_ns)\n    File \"C:\\Users\\RohanRVC\\AppData\\Local\\Temp\\ipykernel_52588\\787003761.py\", line 9, in <module>\n      model.fit(generate_batches(joined_text, chunk_size, n_words, unique_token_index),\n    File \"c:\\Users\\RohanRVC\\Documents\\Business\\E-books\\E_Books_Unknown_AI\\Book\\Lib\\site-packages\\keras\\src\\utils\\traceback_utils.py\", line 65, in error_handler\n      return fn(*args, **kwargs)\n    File \"c:\\Users\\RohanRVC\\Documents\\Business\\E-books\\E_Books_Unknown_AI\\Book\\Lib\\site-packages\\keras\\src\\engine\\training.py\", line 1742, in fit\n      tmp_logs = self.train_function(iterator)\n    File \"c:\\Users\\RohanRVC\\Documents\\Business\\E-books\\E_Books_Unknown_AI\\Book\\Lib\\site-packages\\keras\\src\\engine\\training.py\", line 1338, in train_function\n      return step_function(self, iterator)\n    File \"c:\\Users\\RohanRVC\\Documents\\Business\\E-books\\E_Books_Unknown_AI\\Book\\Lib\\site-packages\\keras\\src\\engine\\training.py\", line 1322, in step_function\n      outputs = model.distribute_strategy.run(run_step, args=(data,))\n    File \"c:\\Users\\RohanRVC\\Documents\\Business\\E-books\\E_Books_Unknown_AI\\Book\\Lib\\site-packages\\keras\\src\\engine\\training.py\", line 1303, in run_step\n      outputs = model.train_step(data)\n    File \"c:\\Users\\RohanRVC\\Documents\\Business\\E-books\\E_Books_Unknown_AI\\Book\\Lib\\site-packages\\keras\\src\\engine\\training.py\", line 1080, in train_step\n      y_pred = self(x, training=True)\n    File \"c:\\Users\\RohanRVC\\Documents\\Business\\E-books\\E_Books_Unknown_AI\\Book\\Lib\\site-packages\\keras\\src\\utils\\traceback_utils.py\", line 65, in error_handler\n      return fn(*args, **kwargs)\n    File \"c:\\Users\\RohanRVC\\Documents\\Business\\E-books\\E_Books_Unknown_AI\\Book\\Lib\\site-packages\\keras\\src\\engine\\training.py\", line 569, in __call__\n      return super().__call__(*args, **kwargs)\n    File \"c:\\Users\\RohanRVC\\Documents\\Business\\E-books\\E_Books_Unknown_AI\\Book\\Lib\\site-packages\\keras\\src\\utils\\traceback_utils.py\", line 65, in error_handler\n      return fn(*args, **kwargs)\n    File \"c:\\Users\\RohanRVC\\Documents\\Business\\E-books\\E_Books_Unknown_AI\\Book\\Lib\\site-packages\\keras\\src\\engine\\base_layer.py\", line 1150, in __call__\n      outputs = call_fn(inputs, *args, **kwargs)\n    File \"c:\\Users\\RohanRVC\\Documents\\Business\\E-books\\E_Books_Unknown_AI\\Book\\Lib\\site-packages\\keras\\src\\utils\\traceback_utils.py\", line 96, in error_handler\n      return fn(*args, **kwargs)\n    File \"c:\\Users\\RohanRVC\\Documents\\Business\\E-books\\E_Books_Unknown_AI\\Book\\Lib\\site-packages\\keras\\src\\engine\\sequential.py\", line 405, in call\n      return super().call(inputs, training=training, mask=mask)\n    File \"c:\\Users\\RohanRVC\\Documents\\Business\\E-books\\E_Books_Unknown_AI\\Book\\Lib\\site-packages\\keras\\src\\engine\\functional.py\", line 512, in call\n      return self._run_internal_graph(inputs, training=training, mask=mask)\n    File \"c:\\Users\\RohanRVC\\Documents\\Business\\E-books\\E_Books_Unknown_AI\\Book\\Lib\\site-packages\\keras\\src\\engine\\functional.py\", line 669, in _run_internal_graph\n      outputs = node.layer(*args, **kwargs)\n    File \"c:\\Users\\RohanRVC\\Documents\\Business\\E-books\\E_Books_Unknown_AI\\Book\\Lib\\site-packages\\keras\\src\\layers\\rnn\\base_rnn.py\", line 556, in __call__\n      return super().__call__(inputs, **kwargs)\n    File \"c:\\Users\\RohanRVC\\Documents\\Business\\E-books\\E_Books_Unknown_AI\\Book\\Lib\\site-packages\\keras\\src\\utils\\traceback_utils.py\", line 65, in error_handler\n      return fn(*args, **kwargs)\n    File \"c:\\Users\\RohanRVC\\Documents\\Business\\E-books\\E_Books_Unknown_AI\\Book\\Lib\\site-packages\\keras\\src\\engine\\base_layer.py\", line 1150, in __call__\n      outputs = call_fn(inputs, *args, **kwargs)\n    File \"c:\\Users\\RohanRVC\\Documents\\Business\\E-books\\E_Books_Unknown_AI\\Book\\Lib\\site-packages\\keras\\src\\utils\\traceback_utils.py\", line 96, in error_handler\n      return fn(*args, **kwargs)\n    File \"c:\\Users\\RohanRVC\\Documents\\Business\\E-books\\E_Books_Unknown_AI\\Book\\Lib\\site-packages\\keras\\src\\layers\\rnn\\lstm.py\", line 749, in call\n      ) = lstm_with_backend_selection(**normal_lstm_kwargs)\n    File \"c:\\Users\\RohanRVC\\Documents\\Business\\E-books\\E_Books_Unknown_AI\\Book\\Lib\\site-packages\\keras\\src\\layers\\rnn\\lstm.py\", line 1339, in lstm_with_backend_selection\n      last_output, outputs, new_h, new_c, runtime = defun_standard_lstm(\n    File \"c:\\Users\\RohanRVC\\Documents\\Business\\E-books\\E_Books_Unknown_AI\\Book\\Lib\\site-packages\\keras\\src\\layers\\rnn\\lstm.py\", line 981, in standard_lstm\n      last_output, outputs, new_states = backend.rnn(\n    File \"c:\\Users\\RohanRVC\\Documents\\Business\\E-books\\E_Books_Unknown_AI\\Book\\Lib\\site-packages\\keras\\src\\backend.py\", line 5170, in rnn\n      final_outputs = tf.compat.v1.while_loop(\n    File \"c:\\Users\\RohanRVC\\Documents\\Business\\E-books\\E_Books_Unknown_AI\\Book\\Lib\\site-packages\\keras\\src\\backend.py\", line 5149, in _step\n      output, new_states = step_function(\n    File \"c:\\Users\\RohanRVC\\Documents\\Business\\E-books\\E_Books_Unknown_AI\\Book\\Lib\\site-packages\\keras\\src\\layers\\rnn\\lstm.py\", line 967, in step\n      z = backend.dot(cell_inputs, kernel)\n    File \"c:\\Users\\RohanRVC\\Documents\\Business\\E-books\\E_Books_Unknown_AI\\Book\\Lib\\site-packages\\keras\\src\\backend.py\", line 2465, in dot\n      out = tf.matmul(x, y)\nNode: 'while/MatMul'\nMatrix size-incompatible: In[0]: [19064,1651], In[1]: [2299,512]\n\t [[{{node while/MatMul}}]]\n\t [[sequential/lstm/PartitionedCall]] [Op:__inference_train_function_29396]"
     ]
    }
   ],
   "source": [
    "# Load the model\n",
    "model = load_model(\"C:/Users/RohanRVC/Documents/Business/E-books/E_Books_Unknown_AI/text_generation/Model/model_stage_1/mymodel.h5\")  # Replace with your model path\n",
    "chunk_size = 100000  # Adjust as per your memory capacity\n",
    "n_words = 10  # Number of words in each sequence\n",
    "# Calculate steps per epoch\n",
    "steps_per_epoch = (len(joined_text) // chunk_size) * (chunk_size // (n_words + 1))\n",
    "\n",
    "# Train the model using the generator\n",
    "model.fit(generate_batches(joined_text, chunk_size, n_words, unique_token_index),\n",
    "          steps_per_epoch=steps_per_epoch,\n",
    "          epochs=30)\n"
   ]
  },
  {
   "cell_type": "code",
   "execution_count": null,
   "metadata": {},
   "outputs": [],
   "source": [
    "# Save the trained model\n",
    "model.save('C:/Users/RohanRVC/Documents/Business/E-books/E_Books_Unknown_AI/text_generation/Model/model_stage_1/mymodel.h5')  # Replace with your desired save path\n"
   ]
  },
  {
   "cell_type": "code",
   "execution_count": 31,
   "metadata": {},
   "outputs": [
    {
     "data": {
      "text/plain": [
       "2299"
      ]
     },
     "execution_count": 31,
     "metadata": {},
     "output_type": "execute_result"
    }
   ],
   "source": [
    "len(unique_tokens)"
   ]
  },
  {
   "cell_type": "code",
   "execution_count": null,
   "metadata": {},
   "outputs": [],
   "source": [
    "model.save('C:/Users/RohanRVC/Documents/Business/E-books/E_Books_Unknown_AI/text_generation/Model/model_stage_1/mymodel.h5')"
   ]
  },
  {
   "cell_type": "code",
   "execution_count": null,
   "metadata": {},
   "outputs": [],
   "source": []
  }
 ],
 "metadata": {
  "kernelspec": {
   "display_name": "Book",
   "language": "python",
   "name": "python3"
  },
  "language_info": {
   "codemirror_mode": {
    "name": "ipython",
    "version": 3
   },
   "file_extension": ".py",
   "mimetype": "text/x-python",
   "name": "python",
   "nbconvert_exporter": "python",
   "pygments_lexer": "ipython3",
   "version": "3.11.1"
  }
 },
 "nbformat": 4,
 "nbformat_minor": 2
}
